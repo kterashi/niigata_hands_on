{
 "cells": [
  {
   "cell_type": "markdown",
   "metadata": {},
   "source": [
    "<a href=\"https://colab.research.google.com/github/kterashi/niigata_lecture_2024/blob/master/Lec56.ipynb\" target=\"_parent\"><img src=\"https://colab.research.google.com/assets/colab-badge.svg\" alt=\"Open In Colab\"/></a>"
   ]
  },
  {
   "cell_type": "markdown",
   "source": [
    "# Variational Quantum Algorithm, Quantum Machine Learning"
   ],
   "metadata": {
    "collapsed": false
   }
  },
  {
   "cell_type": "markdown",
   "source": [
    "## Variational Quantum Algorithm\n",
    "\n",
    "Let us first take a look at **Variational Quantum Algorithm**, which Variational Quantum Eigensolver (VQE) is based on."
   ],
   "metadata": {
    "collapsed": false
   }
  },
  {
   "cell_type": "code",
   "execution_count": null,
   "outputs": [],
   "source": [
    "# First, get all the necessary libraries from the copy and import packages\n",
    "import os\n",
    "import sys\n",
    "import shutil\n",
    "import tarfile\n",
    "from google.colab import drive\n",
    "drive.mount('/content/gdrive')\n",
    "shutil.copy('/content/gdrive/MyDrive/qcintro.tar.gz', '.')\n",
    "with tarfile.open('qcintro.tar.gz', 'r:gz') as tar:\n",
    "    tar.extractall(path='/root/.local')\n",
    "\n",
    "sys.path.append('/root/.local/lib/python3.10/site-packages')"
   ],
   "metadata": {
    "collapsed": false
   }
  },
  {
   "cell_type": "code",
   "execution_count": null,
   "metadata": {
    "collapsed": false
   },
   "outputs": [],
   "source": [
    "# Tested with python 3.10.11, qiskit 0.42.1, numpy 1.23.5, scipy 1.9.3\n",
    "import numpy as np\n",
    "import matplotlib.pyplot as plt\n",
    "from qiskit import QuantumCircuit, transpile\n",
    "from qiskit.circuit import Parameter, ParameterVector\n",
    "from qiskit.primitives import Estimator, BackendEstimator\n",
    "from qiskit.quantum_info import Statevector, Operator, SparsePauliOp\n",
    "from qiskit_algorithms.optimizers import SPSA, COBYLA\n",
    "from qiskit_aer import AerSimulator\n",
    "from qiskit_aer.primitives import Estimator as AerEstimator\n",
    "\n",
    "runtime_config_path = '/content/gdrive/MyDrive/qiskit-ibm.json'\n",
    "\n",
    "# Workbook specific module\n",
    "from qc_workbook.utils import operational_backend"
   ]
  },
  {
   "cell_type": "markdown",
   "metadata": {},
   "source": [
    "### Example of Variational Form\n",
    "\n",
    "We will look into a problem of parameter optimization using a single-qubit variational form with $U$ gate. Here the problem is to approximate a randomly chosen quantum state $|\\psi_0\\rangle$ using a variational form composed of a single $U$ gate."
   ]
  },
  {
   "cell_type": "code",
   "execution_count": null,
   "metadata": {
    "collapsed": false,
    "pycharm": {
     "is_executing": true
    }
   },
   "outputs": [],
   "source": [
    "rng = np.random.default_rng(999999)\n",
    "\n",
    "# Function to generate a random state vector with a given number of qubits (nq)\n",
    "def random_statevector(nq):\n",
    "    # Generat 2^nq complex numbers randomly\n",
    "    data = rng.random(2 ** nq) + 1.j * rng.random(2 ** nq)\n",
    "    # Normalization\n",
    "    data /= np.sqrt(np.sum(np.square(np.abs(data))))\n",
    "\n",
    "    return Statevector(data)\n",
    "\n",
    "# Example state of cos(pi/6) + e^{i*pi/6)sin(pi/6)\n",
    "statevector = Statevector(np.array([np.cos(np.pi / 6.), np.exp(1.j * np.pi / 6.) * np.sin(np.pi / 6.)]))\n",
    "for pauli in ['X', 'Y', 'Z']:\n",
    "    op = SparsePauliOp(pauli)\n",
    "    print(f'<{pauli}> = {statevector.expectation_value(op).real:.5f}')"
   ]
  },
  {
   "cell_type": "markdown",
   "metadata": {},
   "source": [
    "Next, a quantum circuit of variational form is built with Parameter objects in Qiskit that can represent angles of $U$ gate.\n",
    "We can substitute real numbers for the Parameter objects when executing the circuit later."
   ]
  },
  {
   "cell_type": "code",
   "execution_count": null,
   "metadata": {
    "collapsed": false,
    "pycharm": {
     "is_executing": true
    }
   },
   "outputs": [],
   "source": [
    "theta = Parameter('θ')\n",
    "phi = Parameter('φ')\n",
    "\n",
    "ansatz_1q = QuantumCircuit(1)\n",
    "ansatz_1q.u(theta, phi, 0., 0)"
   ]
  },
  {
   "cell_type": "markdown",
   "metadata": {},
   "source": [
    "We use the `assign_parameters` method to substitute certain numbers for Parameter objects."
   ]
  },
  {
   "cell_type": "code",
   "execution_count": null,
   "metadata": {
    "collapsed": false,
    "pycharm": {
     "is_executing": true
    }
   },
   "outputs": [],
   "source": [
    "# Parameter value is not determined\n",
    "ansatz_1q.draw('mpl')"
   ]
  },
  {
   "cell_type": "code",
   "execution_count": null,
   "metadata": {
    "collapsed": false,
    "pycharm": {
     "is_executing": true
    }
   },
   "outputs": [],
   "source": [
    "# Substitue π/3 for theta and π/6 for phi\n",
    "ansatz_1q.assign_parameters({theta: np.pi / 3., phi: np.pi / 6.}).draw('mpl')"
   ]
  },
  {
   "cell_type": "markdown",
   "metadata": {},
   "source": [
    "Define a quantum circuit to measure the expectation values of $X, Y, Z$ for the state created by the variational form."
   ]
  },
  {
   "cell_type": "code",
   "execution_count": 6,
   "metadata": {
    "collapsed": false,
    "ExecuteTime": {
     "end_time": "2024-12-07T04:15:32.634998Z",
     "start_time": "2024-12-07T04:15:32.610936Z"
    }
   },
   "outputs": [],
   "source": [
    "circuits = dict()\n",
    "\n",
    "# Change the basis with H gate to measure <X>\n",
    "circuits['X'] = ansatz_1q.copy()\n",
    "circuits['X'].h(0)\n",
    "circuits['X'].measure_all()\n",
    "\n",
    "# Change the basis with Sdg and H gates to measure <Y>\n",
    "circuits['Y'] = ansatz_1q.copy()\n",
    "circuits['Y'].sdg(0)\n",
    "circuits['Y'].h(0)\n",
    "circuits['Y'].measure_all()\n",
    "\n",
    "# No basis change to measure <Z>\n",
    "circuits['Z'] = ansatz_1q.copy()\n",
    "circuits['Z'].measure_all()"
   ]
  },
  {
   "cell_type": "markdown",
   "metadata": {},
   "source": [
    "Define a function to calculate an expectation value from results obtained by running each circuit with the `run()` method of a backend."
   ]
  },
  {
   "cell_type": "code",
   "execution_count": null,
   "metadata": {
    "collapsed": false,
    "pycharm": {
     "is_executing": true
    }
   },
   "outputs": [],
   "source": [
    "backend = AerSimulator()\n",
    "\n",
    "def circuit_expval(circuit, param_vals):\n",
    "    bound_circuit = circuit.assign_parameters({theta: param_vals[0], phi: param_vals[1]})\n",
    "\n",
    "    bound_circuit_tr = transpile(bound_circuit, backend=backend)\n",
    "    # shots is defined outside the function\n",
    "    job = backend.run(bound_circuit_tr, shots=shots)\n",
    "    counts = job.result().get_counts()\n",
    "\n",
    "    return (counts.get('0', 0) - counts.get('1', 0)) / shots\n",
    "\n",
    "# Example：U(π/3, π/6, 0)|0>\n",
    "shots = 10000\n",
    "param_vals = [np.pi / 3., np.pi / 6.]\n",
    "for pauli in ['X', 'Y', 'Z']:\n",
    "    print(f'<{pauli}> = {circuit_expval(circuits[pauli], param_vals):.5f}')"
   ]
  },
  {
   "cell_type": "markdown",
   "metadata": {},
   "source": [
    "Define objective function to be minimized."
   ]
  },
  {
   "cell_type": "code",
   "execution_count": 8,
   "metadata": {
    "collapsed": false,
    "ExecuteTime": {
     "end_time": "2024-12-07T04:16:48.104977Z",
     "start_time": "2024-12-07T04:16:48.095214Z"
    }
   },
   "outputs": [],
   "source": [
    "def objective_function(param_vals):\n",
    "    loss = 0.\n",
    "    for pauli in ['X', 'Y', 'Z']:\n",
    "        # target_state_1q is defined outside the funciton\n",
    "        op = SparsePauliOp(pauli)\n",
    "        target = target_state_1q.expectation_value(op).real\n",
    "        current = circuit_expval(circuits[pauli], param_vals)\n",
    "        loss += (target - current) ** 2\n",
    "\n",
    "    return loss\n",
    "\n",
    "# Function that is called every step of optimization. This stores the values of objective function into a list.\n",
    "def callback_function(param_vals):\n",
    "    # losses is defined outside the function\n",
    "    losses.append(objective_function(param_vals))"
   ]
  },
  {
   "cell_type": "markdown",
   "metadata": {},
   "source": [
    "Here a function that calculates the fidelity $|\\langle \\psi_0 | \\psi(\\theta, \\phi) \\rangle|^2$ between the target state and a state that the variational form with optimized parameters produces after optimization is defined. If the optimization is perfectly successful, the fidelity value becomes 1."
   ]
  },
  {
   "cell_type": "code",
   "execution_count": 9,
   "metadata": {
    "collapsed": false,
    "ExecuteTime": {
     "end_time": "2024-12-07T04:16:55.852449Z",
     "start_time": "2024-12-07T04:16:55.842057Z"
    }
   },
   "outputs": [],
   "source": [
    "def fidelity(ansatz, param_vals, target_state):\n",
    "    # Obtain the list of circuit parameters using circuit.parameters\n",
    "    parameters = ansatz.parameters\n",
    "\n",
    "    param_binding = dict(zip(parameters, param_vals))\n",
    "    opt_ansatz = ansatz.assign_parameters(param_binding)\n",
    "\n",
    "    # Statevector can be generated from a circuit as well by applying it to |0> state.\n",
    "    circuit_state = Statevector(opt_ansatz)\n",
    "\n",
    "    return np.square(np.abs(target_state.inner(circuit_state)))"
   ]
  },
  {
   "cell_type": "markdown",
   "metadata": {},
   "source": [
    "Finally, the algorithm is executed with an instance of COBYLA optimizer."
   ]
  },
  {
   "cell_type": "code",
   "execution_count": 10,
   "metadata": {
    "collapsed": false,
    "ExecuteTime": {
     "end_time": "2024-12-07T04:16:57.998958Z",
     "start_time": "2024-12-07T04:16:57.995332Z"
    }
   },
   "outputs": [],
   "source": [
    "# Maximum number of states for COBYLA\n",
    "maxiter = 300\n",
    "# Convergence condition for COBYLA (the smaller the better for approximation)\n",
    "tol = 0.001\n",
    "# Backend shot number\n",
    "shots = 1000\n",
    "\n",
    "# COBYLA instance\n",
    "optimizer = COBYLA(maxiter=maxiter, tol=tol, callback=callback_function)"
   ]
  },
  {
   "cell_type": "code",
   "execution_count": null,
   "metadata": {
    "collapsed": false,
    "pycharm": {
     "is_executing": true
    }
   },
   "outputs": [],
   "source": [
    "# Target state\n",
    "target_state_1q = random_statevector(1)\n",
    "\n",
    "# Choose theta within [0, π) and phi within [0, 2π) randomly\n",
    "init = [rng.uniform(0., np.pi), rng.uniform(0., 2. * np.pi)]\n",
    "\n",
    "# Perform optimization\n",
    "losses = list()\n",
    "min_result = optimizer.minimize(objective_function, x0=init)\n",
    "\n",
    "plt.plot(losses);"
   ]
  },
  {
   "cell_type": "code",
   "outputs": [],
   "source": [
    "print(f'Fidelity = {fidelity(ansatz_1q, min_result.x, target_state_1q):.6f}')"
   ],
   "metadata": {
    "collapsed": false
   },
   "execution_count": null
  },
  {
   "cell_type": "markdown",
   "metadata": {},
   "source": [
    "#### Using Estimator\n",
    "\n",
    "For Variational Quantum Algorithms including VQE, there is often the case that the expectation values of several observables are measured many times by replacing the parameters of a variational form with actual values. Therefore, it is recommended to use Estimator class, which can automate the process of repeated measurements with various error mitigation techniques. Here, the Estimator called BackendEstimator that allows to calculate using a specific backend is used."
   ]
  },
  {
   "cell_type": "code",
   "execution_count": null,
   "metadata": {
    "collapsed": false,
    "pycharm": {
     "is_executing": true
    }
   },
   "outputs": [],
   "source": [
    "# Create BackendEstimator instance\n",
    "estimator = BackendEstimator(backend)\n",
    "\n",
    "#from qiskit.primitives import BackendEstimatorV2\n",
    "#estimator = BackendEstimatorV2(backend)\n",
    "\n",
    "# Observable is defined using SparsePauliOp object\n",
    "observables = [SparsePauliOp('X'), SparsePauliOp('Y'), SparsePauliOp('Z')]\n",
    "\n",
    "param_vals = [np.pi / 3., np.pi / 6.]\n",
    "\n",
    "# Give a variational form, observable and parameter values to run() method\n",
    "# Since there are three observables, the number of ansatz_1q and param_values is also three.\n",
    "job = estimator.run([ansatz_1q] * 3, observables, [param_vals] * 3, shots=10000)\n",
    "result = job.result()\n",
    "print(result.values)"
   ]
  },
  {
   "cell_type": "markdown",
   "metadata": {},
   "source": [
    "Define the objective function to use Estimator instance."
   ]
  },
  {
   "cell_type": "code",
   "execution_count": 26,
   "metadata": {
    "collapsed": false,
    "ExecuteTime": {
     "end_time": "2024-12-07T04:43:42.172795Z",
     "start_time": "2024-12-07T04:43:42.165305Z"
    }
   },
   "outputs": [],
   "source": [
    "observables_1q = [SparsePauliOp('X'), SparsePauliOp('Y'), SparsePauliOp('Z')]\n",
    "\n",
    "def objective_function_estimator(param_vals):\n",
    "    target = np.array(list(target_state_1q.expectation_value(op).real for op in observables_1q))\n",
    "\n",
    "    job = estimator.run([ansatz_1q] * len(observables_1q), observables_1q, [param_vals] * len(observables_1q), shots=shots)\n",
    "    current = np.array(job.result().values)\n",
    "\n",
    "    return np.sum(np.square(target - current))\n",
    "\n",
    "def callback_function_estimator(param_vals):\n",
    "    # losses is defined outside the function\n",
    "    losses.append(objective_function_estimator(param_vals))"
   ]
  },
  {
   "cell_type": "markdown",
   "metadata": {},
   "source": [
    "Optimize the above objective function."
   ]
  },
  {
   "cell_type": "code",
   "execution_count": 27,
   "metadata": {
    "collapsed": false,
    "ExecuteTime": {
     "end_time": "2024-12-07T04:43:44.915792Z",
     "start_time": "2024-12-07T04:43:44.912837Z"
    }
   },
   "outputs": [],
   "source": [
    "# Maximum number of states for COBYLA\n",
    "maxiter = 300\n",
    "# Convergence condition for COBYLA (the smaller the better for approximation)\n",
    "tol = 0.001\n",
    "# Backend shot number\n",
    "shots = 1000\n",
    "\n",
    "# COBYLA instance\n",
    "optimizer = COBYLA(maxiter=maxiter, tol=tol, callback=callback_function_estimator)"
   ]
  },
  {
   "cell_type": "code",
   "execution_count": null,
   "metadata": {
    "collapsed": false,
    "pycharm": {
     "is_executing": true
    }
   },
   "outputs": [],
   "source": [
    "# Target state\n",
    "target_state_1q = random_statevector(1)\n",
    "\n",
    "# Choose theta within [0, π) and phi within [0, 2π) randomly\n",
    "init = [rng.uniform(0., np.pi), rng.uniform(0., 2. * np.pi)]\n",
    "\n",
    "# Perform optimization\n",
    "losses = list()\n",
    "min_result = optimizer.minimize(objective_function_estimator, x0=init)\n",
    "\n",
    "plt.plot(losses);"
   ]
  },
  {
   "cell_type": "code",
   "execution_count": null,
   "metadata": {
    "collapsed": false,
    "pycharm": {
     "is_executing": true
    }
   },
   "outputs": [],
   "source": [
    "print(f'Fidelity = {fidelity(ansatz_1q, min_result.x, target_state_1q):.6f}')"
   ]
  },
  {
   "cell_type": "markdown",
   "metadata": {},
   "source": [
    "### Introduction of Entanglement\n",
    "\n",
    "Next, we consider a similar problem with 2 qubits. Here the expectation values of 15 observables that can determine a general 2-qubit state:\n",
    "\n",
    "$$\n",
    "\\langle O_1 O_2 \\rangle \\quad (O_1, O_2 = I, X, Y, Z; O_1 O_2 \\neq II)\n",
    "$$\n",
    "\n",
    "are measured with $I$ being an identity operator.\n",
    "\n",
    "We can use the function `random_statevector` as it is. First, let us consider a circuit with $U$ gate on each of 2 qubits and define the objective function."
   ]
  },
  {
   "cell_type": "code",
   "execution_count": null,
   "metadata": {
    "collapsed": false,
    "pycharm": {
     "is_executing": true
    }
   },
   "outputs": [],
   "source": [
    "# Define ParameterVector object with 4 elements (since there are 4 parameters)\n",
    "params = ParameterVector('params', 4)\n",
    "\n",
    "ansatz_2q = QuantumCircuit(2)\n",
    "ansatz_2q.u(params[0], params[1], 0., 0)\n",
    "ansatz_2q.u(params[2], params[3], 0., 1)"
   ]
  },
  {
   "cell_type": "code",
   "execution_count": 48,
   "metadata": {
    "collapsed": false,
    "ExecuteTime": {
     "end_time": "2024-12-07T04:50:56.882578Z",
     "start_time": "2024-12-07T04:50:56.876820Z"
    }
   },
   "outputs": [],
   "source": [
    "paulis_1q = ['I', 'X', 'Y', 'Z']\n",
    "paulis_2q = list(f'{op1}{op2}' for op1 in paulis_1q for op2 in paulis_1q if (op1, op2) != ('I', 'I'))\n",
    "observables_2q = list(SparsePauliOp(pauli) for pauli in paulis_2q)\n",
    "\n",
    "\n",
    "def objective_function_2q(param_vals):\n",
    "    # target_state_2q is defined outside the function\n",
    "    target = np.array(list(target_state_2q.expectation_value(op).real for op in observables_2q))\n",
    "\n",
    "    job = estimator.run([ansatz_2q] * len(observables_2q), observables_2q, [param_vals] * len(observables_2q), shots=shots)\n",
    "    current = np.array(job.result().values)\n",
    "\n",
    "    return np.sum(np.square(target - current))\n",
    "\n",
    "def callback_function_2q(param_vals):\n",
    "    # losses is defined outside the functon\n",
    "    losses.append(objective_function_2q(param_vals))"
   ]
  },
  {
   "cell_type": "code",
   "execution_count": 49,
   "metadata": {
    "collapsed": false,
    "ExecuteTime": {
     "end_time": "2024-12-07T04:50:58.818603Z",
     "start_time": "2024-12-07T04:50:58.807809Z"
    }
   },
   "outputs": [],
   "source": [
    "# Maximum number of states for COBYLA\n",
    "maxiter = 300\n",
    "# Convergence condition for COBYLA (the smaller the better for approximation)\n",
    "tol = 0.001\n",
    "# Backend shot number\n",
    "shots = 1000\n",
    "\n",
    "# COBYLA instance\n",
    "optimizer = COBYLA(maxiter=maxiter, tol=tol, callback=callback_function_2q)\n",
    "\n",
    "# Target state\n",
    "target_state_2q = random_statevector(2)\n",
    "#target_state_2q = Statevector(np.array([1., 0., 0., 1.], dtype=complex) / np.sqrt(2.))\n",
    "\n",
    "# Initial values of parameters\n",
    "init = rng.uniform(0., 2. * np.pi, size=4)"
   ]
  },
  {
   "cell_type": "code",
   "execution_count": null,
   "metadata": {
    "collapsed": false,
    "pycharm": {
     "is_executing": true
    }
   },
   "outputs": [],
   "source": [
    "# Perform optimization\n",
    "losses = list()\n",
    "min_result = optimizer.minimize(objective_function_2q, x0=init)\n",
    "plt.plot(losses);"
   ]
  },
  {
   "cell_type": "code",
   "execution_count": null,
   "metadata": {
    "collapsed": false,
    "pycharm": {
     "is_executing": true
    }
   },
   "outputs": [],
   "source": [
    "print(f'Fidelity = {fidelity(ansatz_2q, min_result.x, target_state_2q):.6f}')"
   ]
  },
  {
   "cell_type": "markdown",
   "metadata": {},
   "source": [
    "It is rather obvious that the result is not as good as the single-qubit case. How can we improve this?"
   ]
  },
  {
   "cell_type": "markdown",
   "metadata": {},
   "source": [
    "**Introduce entanglement into the variational form**\n",
    "\n",
    "```python\n",
    "ansatz_2q = QuantumCircuit(2)\n",
    "ansatz_2q.u(params[0], params[1], 0., 0)\n",
    "ansatz_2q.u(params[2], params[3], 0., 1)\n",
    "ansatz_2q.cx(0, 1)\n",
    "```\n",
    "\n",
    "Please check what happens with this circuit."
   ]
  },
  {
   "cell_type": "markdown",
   "metadata": {},
   "source": [
    "For a most generic 2-qubit state, the 2 qubits are entangled so the introduction of 2-qubit gate will naturally help. If one wants to produce Bell states（See [Confirming the violation of the CHSH inequality](https://utokyo-icepp.github.io/qc-workbook/en/chsh_inequality.html#id14)), this is more clearly seen. It would be interesting to change the `target_state_2q` from\n",
    "\n",
    "```python\n",
    "target_state_2q = random_statevector(2)\n",
    "```\n",
    "\n",
    "to, e.g,\n",
    "\n",
    "```python\n",
    "target_state_2q = Statevector(np.array([1., 0., 0., 1.], dtype=complex) / np.sqrt(2.))\n",
    "```\n",
    "\n",
    "and try to approximate the state with and without 2-qubit entangling gate."
   ]
  },
  {
   "cell_type": "markdown",
   "metadata": {},
   "source": [
    "## Variational Quantum Eigensolver\n",
    "\n",
    "Now we try to implement a simple example of VQE algorithm."
   ]
  },
  {
   "cell_type": "markdown",
   "source": [
    "### VQE Example 1\n",
    "First, we try a simple example: optimize ansatz parameters using VQE so that the expectation value of an observable is minimized.\n",
    "\n",
    "The observable is the product 'ZXY' of Pauli operators and the ansatz is the circuit with layers of $R_Y$ and $R_Z$ gates.\n",
    "\n",
    "Finally, the minimized expectation values obtained using three different optimizers in VQE are compared with the exact value from exact diagonalization."
   ],
   "metadata": {
    "collapsed": false
   }
  },
  {
   "cell_type": "code",
   "execution_count": 52,
   "metadata": {
    "collapsed": false,
    "ExecuteTime": {
     "end_time": "2024-12-07T04:54:13.210278Z",
     "start_time": "2024-12-07T04:54:13.193670Z"
    }
   },
   "outputs": [],
   "source": [
    "from qiskit_algorithms.minimum_eigensolvers import VQE, NumPyMinimumEigensolver\n",
    "from qiskit_algorithms.optimizers import CG, GradientDescent\n",
    "from qiskit_algorithms.gradients import ParamShiftEstimatorGradient"
   ]
  },
  {
   "cell_type": "code",
   "execution_count": null,
   "metadata": {
    "collapsed": false
   },
   "outputs": [],
   "source": [
    "# Ansats definition\n",
    "num_qubits = 3   # number of qubits\n",
    "num_layers = 2  # number of layers\n",
    "\n",
    "ansatz = QuantumCircuit(num_qubits)\n",
    "\n",
    "# Parameter list\n",
    "theta = ParameterVector('θ')\n",
    "\n",
    "# Add one element to the list and return the added list\n",
    "def new_theta():\n",
    "    theta.resize(len(theta) + 1)\n",
    "    return theta[-1]\n",
    "\n",
    "for _ in range(num_layers):\n",
    "    for iq in range(num_qubits):\n",
    "        ansatz.ry(new_theta(), iq)\n",
    "\n",
    "    for iq in range(num_qubits):\n",
    "        ansatz.rz(new_theta(), iq)\n",
    "\n",
    "    #for iq in range(num_qubits - 1):\n",
    "    #    ansatz.cx(iq, iq + 1)\n",
    "\n",
    "ansatz.draw('mpl')"
   ]
  },
  {
   "cell_type": "code",
   "execution_count": 54,
   "metadata": {
    "collapsed": false,
    "pycharm": {
     "is_executing": true
    },
    "ExecuteTime": {
     "end_time": "2024-12-07T04:54:19.061680Z",
     "start_time": "2024-12-07T04:54:19.044603Z"
    }
   },
   "outputs": [],
   "source": [
    "# Observable to be measured\n",
    "obs = SparsePauliOp('ZXY')\n",
    "\n",
    "# Initial values of the parameters\n",
    "init = rng.uniform(0., 2. * np.pi, size=len(theta))\n",
    "\n",
    "# Object to calcualte the gradient of observable using Estimator class\n",
    "grad = ParamShiftEstimatorGradient(estimator)\n",
    "\n",
    "# VQE with conjugate gradient\n",
    "optimizer_cg = CG(maxiter=200)\n",
    "vqe_cg = VQE(estimator, ansatz, optimizer_cg, gradient=grad, initial_point=init)\n",
    "\n",
    "# VQE with gradient descent\n",
    "optimizer_gd = GradientDescent(maxiter=200)\n",
    "vqe_gd = VQE(estimator, ansatz, optimizer_gd, gradient=grad, initial_point=init)\n",
    "\n",
    "# VQE with COBYLA\n",
    "optimizer_cobyla = COBYLA(maxiter=300)\n",
    "vqe_cobyla = VQE(estimator, ansatz, optimizer_cobyla, initial_point=init)\n",
    "\n",
    "# Solver with exact diagonalization\n",
    "ee = NumPyMinimumEigensolver()"
   ]
  },
  {
   "cell_type": "code",
   "execution_count": 55,
   "metadata": {
    "collapsed": false,
    "ExecuteTime": {
     "end_time": "2024-12-07T05:00:46.960094Z",
     "start_time": "2024-12-07T04:54:20.793724Z"
    }
   },
   "outputs": [],
   "source": [
    "#result_vqe_cg = vqe_cg.compute_minimum_eigenvalue(obs)\n",
    "#result_vqe_gd = vqe_gd.compute_minimum_eigenvalue(obs)\n",
    "result_vqe_cobyla = vqe_cobyla.compute_minimum_eigenvalue(obs)\n",
    "result_ee = ee.compute_minimum_eigenvalue(obs)"
   ]
  },
  {
   "cell_type": "code",
   "execution_count": null,
   "metadata": {
    "collapsed": false
   },
   "outputs": [],
   "source": [
    "print('Result:')\n",
    "print(f'  Exact      = {result_ee.eigenvalue}')\n",
    "print(f'  VQE(COBYLA) = {result_vqe_cobyla.optimal_value}')\n",
    "#print(f'  VQE(CG)    = {result_vqe_cg.optimal_value}')\n",
    "#print(f'  VQE(GD)    = {result_vqe_gd.optimal_value}')"
   ]
  },
  {
   "cell_type": "markdown",
   "source": [
    "### VQE Example 2\n",
    "\n",
    "Next task is to obtain the approximated lowest energy in some physics model, which is a prototypical problem for VQE. The physics model we consider here is the longitudinal-transverse field Ising model, one of the most popular benchmarks in condensed matter physics.\n",
    "\n",
    "The ansatz circuit is composed of $R_Y$ gates and controlled-$Z$ gates."
   ],
   "metadata": {
    "collapsed": false
   }
  },
  {
   "cell_type": "code",
   "outputs": [],
   "source": [
    "from qiskit_algorithms.optimizers import SLSQP\n",
    "from qiskit.circuit.library import TwoLocal\n",
    "\n",
    "# VQE ansatz\n",
    "num_qubits = 2\n",
    "\n",
    "ansatz = TwoLocal(num_qubits, \"ry\", \"cz\", reps=3)  # Ry gates with trainable parameters and CZ for entanglement\n",
    "optimizer = SLSQP(maxiter=1000)  # Classical optimizer\n",
    "ansatz.decompose().draw('mpl')"
   ],
   "metadata": {
    "collapsed": false
   },
   "execution_count": null
  },
  {
   "cell_type": "markdown",
   "source": [
    "The model has a parameter `alpha` that controls the mixture of longitudinal and transverse fieldd. The `alpha = 0` corresponds to pure transverse field, and `alpha = pi/2` to pure longitudinal field.\n"
   ],
   "metadata": {
    "collapsed": false
   }
  },
  {
   "cell_type": "code",
   "outputs": [
    {
     "ename": "ValueError",
     "evalue": "A backend or session must be specified.",
     "output_type": "error",
     "traceback": [
      "\u001B[0;31m---------------------------------------------------------------------------\u001B[0m",
      "\u001B[0;31mValueError\u001B[0m                                Traceback (most recent call last)",
      "Cell \u001B[0;32mIn[58], line 2\u001B[0m\n\u001B[1;32m      1\u001B[0m \u001B[38;5;66;03m# Use Estimator\u001B[39;00m\n\u001B[0;32m----> 2\u001B[0m estimator \u001B[38;5;241m=\u001B[39m \u001B[43mEstimator\u001B[49m\u001B[43m(\u001B[49m\u001B[43m)\u001B[49m\n\u001B[1;32m      4\u001B[0m \u001B[38;5;66;03m# VQE class in Qiskit\u001B[39;00m\n\u001B[1;32m      5\u001B[0m vqe \u001B[38;5;241m=\u001B[39m VQE(estimator, ansatz, optimizer)\n",
      "File \u001B[0;32m/opt/anaconda3/envs/env_niigata_lecture_2024/lib/python3.11/site-packages/qiskit_ibm_runtime/estimator.py:124\u001B[0m, in \u001B[0;36mEstimatorV2.__init__\u001B[0;34m(self, mode, options)\u001B[0m\n\u001B[1;32m    121\u001B[0m BaseEstimatorV2\u001B[38;5;241m.\u001B[39m\u001B[38;5;21m__init__\u001B[39m(\u001B[38;5;28mself\u001B[39m)\n\u001B[1;32m    122\u001B[0m Estimator\u001B[38;5;241m.\u001B[39m\u001B[38;5;21m__init__\u001B[39m(\u001B[38;5;28mself\u001B[39m)\n\u001B[0;32m--> 124\u001B[0m \u001B[43mBasePrimitiveV2\u001B[49m\u001B[38;5;241;43m.\u001B[39;49m\u001B[38;5;21;43m__init__\u001B[39;49m\u001B[43m(\u001B[49m\u001B[38;5;28;43mself\u001B[39;49m\u001B[43m,\u001B[49m\u001B[43m \u001B[49m\u001B[43mmode\u001B[49m\u001B[38;5;241;43m=\u001B[39;49m\u001B[43mmode\u001B[49m\u001B[43m,\u001B[49m\u001B[43m \u001B[49m\u001B[43moptions\u001B[49m\u001B[38;5;241;43m=\u001B[39;49m\u001B[43moptions\u001B[49m\u001B[43m)\u001B[49m\n",
      "File \u001B[0;32m/opt/anaconda3/envs/env_niigata_lecture_2024/lib/python3.11/site-packages/qiskit_ibm_runtime/base_primitive.py:136\u001B[0m, in \u001B[0;36mBasePrimitiveV2.__init__\u001B[0;34m(self, mode, options)\u001B[0m\n\u001B[1;32m    115\u001B[0m \u001B[38;5;28;01mdef\u001B[39;00m \u001B[38;5;21m__init__\u001B[39m(\n\u001B[1;32m    116\u001B[0m     \u001B[38;5;28mself\u001B[39m,\n\u001B[1;32m    117\u001B[0m     mode: Optional[Union[BackendV1, BackendV2, Session, Batch, \u001B[38;5;28mstr\u001B[39m]] \u001B[38;5;241m=\u001B[39m \u001B[38;5;28;01mNone\u001B[39;00m,\n\u001B[1;32m    118\u001B[0m     options: Optional[Union[Dict, OptionsT]] \u001B[38;5;241m=\u001B[39m \u001B[38;5;28;01mNone\u001B[39;00m,\n\u001B[1;32m    119\u001B[0m ):\n\u001B[1;32m    120\u001B[0m \u001B[38;5;250m    \u001B[39m\u001B[38;5;124;03m\"\"\"Initializes the primitive.\u001B[39;00m\n\u001B[1;32m    121\u001B[0m \n\u001B[1;32m    122\u001B[0m \u001B[38;5;124;03m    Args:\u001B[39;00m\n\u001B[0;32m   (...)\u001B[0m\n\u001B[1;32m    134\u001B[0m \u001B[38;5;124;03m        ValueError: Invalid arguments are given.\u001B[39;00m\n\u001B[1;32m    135\u001B[0m \u001B[38;5;124;03m    \"\"\"\u001B[39;00m\n\u001B[0;32m--> 136\u001B[0m     \u001B[38;5;28mself\u001B[39m\u001B[38;5;241m.\u001B[39m_mode, \u001B[38;5;28mself\u001B[39m\u001B[38;5;241m.\u001B[39m_service, \u001B[38;5;28mself\u001B[39m\u001B[38;5;241m.\u001B[39m_backend \u001B[38;5;241m=\u001B[39m \u001B[43m_get_mode_service_backend\u001B[49m\u001B[43m(\u001B[49m\u001B[43mmode\u001B[49m\u001B[43m)\u001B[49m\n\u001B[1;32m    137\u001B[0m     \u001B[38;5;28mself\u001B[39m\u001B[38;5;241m.\u001B[39m_set_options(options)\n",
      "File \u001B[0;32m/opt/anaconda3/envs/env_niigata_lecture_2024/lib/python3.11/site-packages/qiskit_ibm_runtime/base_primitive.py:106\u001B[0m, in \u001B[0;36m_get_mode_service_backend\u001B[0;34m(mode)\u001B[0m\n\u001B[1;32m    104\u001B[0m     \u001B[38;5;28;01mreturn\u001B[39;00m mode, service, backend  \u001B[38;5;66;03m# type: ignore\u001B[39;00m\n\u001B[1;32m    105\u001B[0m \u001B[38;5;28;01melse\u001B[39;00m:\n\u001B[0;32m--> 106\u001B[0m     \u001B[38;5;28;01mraise\u001B[39;00m \u001B[38;5;167;01mValueError\u001B[39;00m(\u001B[38;5;124m\"\u001B[39m\u001B[38;5;124mA backend or session must be specified.\u001B[39m\u001B[38;5;124m\"\u001B[39m)\n",
      "\u001B[0;31mValueError\u001B[0m: A backend or session must be specified."
     ]
    }
   ],
   "source": [
    "# Use Estimator\n",
    "estimator = Estimator()\n",
    "\n",
    "# VQE class in Qiskit\n",
    "vqe = VQE(estimator, ansatz, optimizer)\n",
    "\n",
    "# Hamiltonian of the longitudinal-transverse field Ising model\n",
    "def get_hamiltonian(L, J, h, alpha=0):\n",
    "\n",
    "    # Define the list composed of Hamiltonian terms as tuples\n",
    "    # (1) Pauli string\n",
    "    # (2) Index of qubits associated with Pauli string\n",
    "    # (3) Coefficient of Pauli string\n",
    "    ZZ_tuples = [(\"ZZ\", [i, i + 1], -J) for i in range(0, L - 1)]\n",
    "    Z_tuples = [(\"Z\", [i], -h * np.sin(alpha)) for i in range(0, L)]\n",
    "    X_tuples = [(\"X\", [i], -h * np.cos(alpha)) for i in range(0, L)]\n",
    "\n",
    "    # Construct Hamiltonian as SparsePauliOp object using `from_sparse_list`\n",
    "    hamiltonian = SparsePauliOp.from_sparse_list([*ZZ_tuples, *Z_tuples, *X_tuples], num_qubits=L)\n",
    "    return hamiltonian.simplify()"
   ],
   "metadata": {
    "collapsed": false,
    "ExecuteTime": {
     "end_time": "2024-12-07T05:01:07.506914Z",
     "start_time": "2024-12-07T05:01:07.296244Z"
    }
   },
   "execution_count": 58
  },
  {
   "cell_type": "markdown",
   "source": [
    "As an example, we attempt to obtain ground state energy at `alpha = pi/8`, where the longitudinal and transverse fields are mixed. The coupling strength between neighboring qubits is `J = 0.2`, and the coupling strength with external field is `h = 1.2`."
   ],
   "metadata": {
    "collapsed": false
   }
  },
  {
   "cell_type": "code",
   "outputs": [],
   "source": [
    "# Parameter values\n",
    "J = 0.2\n",
    "h = 1.2\n",
    "alpha = np.pi/8\n",
    "H = get_hamiltonian(L=num_qubits, J=J, h=h, alpha=alpha)\n",
    "\n",
    "# Calculate energy using VQE\n",
    "result = vqe.compute_minimum_eigenvalue(H)\n",
    "#print(result)\n",
    "print(f'VQE energy value = {result.optimal_value:.5f}')"
   ],
   "metadata": {
    "collapsed": false
   }
  },
  {
   "cell_type": "markdown",
   "source": [
    "It is possible to calculate the true energy with exact diagonalization because the system size is small.\n"
   ],
   "metadata": {
    "collapsed": false
   }
  },
  {
   "cell_type": "code",
   "outputs": [],
   "source": [
    "# Exact diagonalization of the Hamiltonian\n",
    "numpy_solver = NumPyMinimumEigensolver()\n",
    "result = numpy_solver.compute_minimum_eigenvalue(operator=H)\n",
    "ref_value = result.eigenvalue.real\n",
    "print(f\"Reference energy value = {ref_value:.5f}\")"
   ],
   "metadata": {
    "collapsed": false
   }
  },
  {
   "cell_type": "markdown",
   "metadata": {
    "collapsed": false
   },
   "source": [
    "## Quantum Machine Learning\n",
    "\n",
    "## Simple Example\n",
    "Let us consider the situation that we are given an input $\\{x_i\\}$ and an output $y_i=f(x_i)$ from a certain function $f$, and we want to (approximately) extract the function $f$ from the set of such data. This is a typical inverse problem. As an example, the function $f$ is taken to be $f(x)=x^3$ here.\n",
    "\n",
    "### Preparation of Training Data"
   ]
  },
  {
   "cell_type": "code",
   "execution_count": null,
   "metadata": {
    "collapsed": false
   },
   "outputs": [],
   "source": [
    "random_seed = 0\n",
    "rng = np.random.default_rng(random_seed)\n",
    "\n",
    "# Number of qubits, layers of variational form, training datasets, etc.\n",
    "nqubit = 3\n",
    "nlayer = 5\n",
    "x_min = -1.\n",
    "x_max = 1.\n",
    "num_x_train = 30\n",
    "num_x_validation = 20\n",
    "\n",
    "# Function f(x)\n",
    "func_to_learn = lambda x: x ** 3\n",
    "\n",
    "# Generate training dataset\n",
    "x_train = rng.uniform(x_min, x_max, size=num_x_train)\n",
    "y_train = func_to_learn(x_train)\n",
    "\n",
    "# Add Gaussian noise to the output of the functon\n",
    "mag_noise = 0.05\n",
    "y_train_noise = y_train + rng.normal(0., mag_noise, size=num_x_train)\n",
    "\n",
    "# Generate validation dataset\n",
    "x_validation = rng.uniform(x_min, x_max, size=num_x_validation)\n",
    "y_validation = func_to_learn(x_validation) + rng.normal(0., mag_noise, size=num_x_validation)\n",
    "\n",
    "# Make the distribution of training data\n",
    "x_list = np.arange(x_min, x_max, 0.02)\n",
    "plt.plot(x_train, y_train_noise, \"o\", label='Training Data (w/ Noise)')\n",
    "plt.plot(x_list, func_to_learn(x_list), label='Original Function')\n",
    "plt.legend()"
   ]
  },
  {
   "cell_type": "markdown",
   "metadata": {
    "collapsed": false
   },
   "source": [
    "### State Preparation"
   ]
  },
  {
   "cell_type": "code",
   "execution_count": null,
   "metadata": {
    "collapsed": false
   },
   "outputs": [],
   "source": [
    "u_in = QuantumCircuit(nqubit, name='U_in')\n",
    "x = Parameter('x')\n",
    "\n",
    "for iq in range(nqubit):\n",
    "    # parameter.arcsin() returns arcsin(v) when a value v is substituted for parameter\n",
    "    u_in.ry(x.arcsin(), iq)\n",
    "    # Similarly for arccos\n",
    "    u_in.rz((x * x).arccos(), iq)\n",
    "\n",
    "u_in.assign_parameters({x: x_train[0]}).draw('mpl')"
   ]
  },
  {
   "cell_type": "markdown",
   "metadata": {
    "collapsed": false
   },
   "source": [
    "### State Transformation with Variational Form"
   ]
  },
  {
   "cell_type": "code",
   "execution_count": null,
   "metadata": {
    "collapsed": false
   },
   "outputs": [],
   "source": [
    "u_out = QuantumCircuit(nqubit, name='U_out')\n",
    "\n",
    "# Parameter list with length 0\n",
    "theta = ParameterVector('θ', 0)\n",
    "\n",
    "# Add one element to the list and retrun the last element\n",
    "def new_theta():\n",
    "    theta.resize(len(theta) + 1)\n",
    "    return theta[-1]\n",
    "\n",
    "for iq in range(nqubit):\n",
    "    u_out.ry(new_theta(), iq)\n",
    "\n",
    "for iq in range(nqubit):\n",
    "    u_out.rz(new_theta(), iq)\n",
    "\n",
    "for iq in range(nqubit):\n",
    "    u_out.ry(new_theta(), iq)\n",
    "\n",
    "for il in range(nlayer):\n",
    "    for iq in range(nqubit):\n",
    "        u_out.cz(iq, (iq + 1) % nqubit)\n",
    "\n",
    "    for iq in range(nqubit):\n",
    "        u_out.ry(new_theta(), iq)\n",
    "\n",
    "    for iq in range(nqubit):\n",
    "        u_out.rz(new_theta(), iq)\n",
    "\n",
    "    for iq in range(nqubit):\n",
    "        u_out.ry(new_theta(), iq)\n",
    "\n",
    "print(f'{len(theta)} parameters')\n",
    "\n",
    "theta_vals = rng.uniform(0., 2. * np.pi, size=len(theta))\n",
    "\n",
    "u_out.assign_parameters(dict(zip(theta, theta_vals))).draw('mpl')"
   ]
  },
  {
   "cell_type": "markdown",
   "metadata": {
    "collapsed": false
   },
   "source": [
    "### Measurement and Model Output"
   ]
  },
  {
   "cell_type": "code",
   "execution_count": null,
   "metadata": {
    "collapsed": false
   },
   "outputs": [],
   "source": [
    "model = QuantumCircuit(nqubit, name='model')\n",
    "\n",
    "model.compose(u_in, inplace=True)\n",
    "model.compose(u_out, inplace=True)\n",
    "\n",
    "assign_params = dict(zip(theta, theta_vals))\n",
    "assign_params[x] = x_train[0]\n",
    "\n",
    "model.assign_parameters(assign_params).draw('mpl')"
   ]
  },
  {
   "cell_type": "code",
   "execution_count": null,
   "metadata": {
    "collapsed": false
   },
   "outputs": [],
   "source": [
    "# Use Estimator class (not real backend)\n",
    "#estimator = Estimator()\n",
    "backend = AerSimulator()\n",
    "estimator = BackendEstimator(backend)\n",
    "\n",
    "# Calculate y value from the input x and parameter values\n",
    "def yvals(param_vals, x_vals=x_train):\n",
    "    circuits = list()\n",
    "    for x_val in x_vals:\n",
    "        # Variational circuit with real values only in x\n",
    "        circuits.append(model.assign_parameters({x: x_val}))\n",
    "\n",
    "    # Observable is IIZ (the rightmost bit is the first qubit)\n",
    "    observable = SparsePauliOp('I' * (nqubit - 1) + 'Z')\n",
    "\n",
    "    # shots is defined outside the function\n",
    "    job = estimator.run(circuits, [observable] * len(circuits), [param_vals] * len(circuits), shots=shots)\n",
    "\n",
    "    return np.array(job.result().values)\n",
    "\n",
    "def objective_function(param_vals):\n",
    "    return np.sum(np.square(y_train_noise - yvals(param_vals)))\n",
    "\n",
    "def callback_function(param_vals):\n",
    "    # losses is defined outside the function\n",
    "    losses.append(objective_function(param_vals))\n",
    "\n",
    "    if len(losses) % 10 == 0:\n",
    "        print(f'COBYLA iteration {len(losses)}: cost={losses[-1]}')"
   ]
  },
  {
   "cell_type": "code",
   "execution_count": 64,
   "metadata": {
    "collapsed": false,
    "ExecuteTime": {
     "end_time": "2024-12-07T05:18:48.335265Z",
     "start_time": "2024-12-07T05:18:48.321318Z"
    }
   },
   "outputs": [],
   "source": [
    "# Maximum number of states for COBYLA\n",
    "maxiter = 100\n",
    "# Convergence condition for COBYLA (the smaller the better for approximation)\n",
    "tol = 0.01\n",
    "# Backend shot number\n",
    "shots = 1000\n",
    "\n",
    "optimizer = COBYLA(maxiter=maxiter, tol=tol, callback=callback_function)"
   ]
  },
  {
   "cell_type": "code",
   "execution_count": null,
   "metadata": {
    "collapsed": false
   },
   "outputs": [],
   "source": [
    "initial_params = rng.uniform(0., 2. * np.pi, size=len(theta))\n",
    "\n",
    "losses = list()\n",
    "min_result = optimizer.minimize(objective_function, initial_params)\n",
    "plt.plot(losses)"
   ]
  },
  {
   "cell_type": "code",
   "execution_count": null,
   "metadata": {
    "collapsed": false
   },
   "outputs": [],
   "source": [
    "x_list = np.linspace(x_min, x_max, 100)\n",
    "\n",
    "y_pred = yvals(min_result.x, x_vals=x_list)\n",
    "\n",
    "# Make a result plot\n",
    "plt.plot(x_train, y_train_noise, \"o\", label='Training Data (w/ Noise)')\n",
    "plt.plot(x_list, func_to_learn(x_list), label='Original Function')\n",
    "plt.plot(x_list, np.array(y_pred), label='Predicted Function')\n",
    "plt.legend();"
   ]
  },
  {
   "cell_type": "markdown",
   "metadata": {
    "collapsed": false
   },
   "source": [
    "### Run on quantum computer\n",
    "\n",
    "You couldd try to run the task on quantum computer using Qiskit Runtime session, but **this may take a long time to finish**. We will skip this for now."
   ]
  },
  {
   "cell_type": "code",
   "execution_count": null,
   "metadata": {
    "collapsed": false
   },
   "outputs": [],
   "source": [
    "service = QiskitRuntimeService(filename=runtime_config_path)\n",
    "backend = service.least_busy(simulator=False, operational=True)\n",
    "print(f'Jobs will run on {backend.name}')"
   ]
  },
  {
   "cell_type": "code",
   "execution_count": null,
   "metadata": {
    "collapsed": false
   },
   "outputs": [],
   "source": [
    "from qiskit_ibm_runtime import Estimator, Session\n",
    "from qiskit_ibm_runtime import QiskitRuntimeService\n",
    "\n",
    "# create a Runtime session for efficient execution (optional)\n",
    "session = Session(service=service, backend=backend)\n",
    "estimator = Estimator(session=session)"
   ]
  },
  {
   "cell_type": "code",
   "execution_count": null,
   "metadata": {
    "collapsed": false
   },
   "outputs": [],
   "source": [
    "# Maximum number of states for COBYLA\n",
    "maxiter = 50\n",
    "# Convergence condition for COBYLA (the smaller the better for approximation)\n",
    "tol = 0.01\n",
    "# Backend shot number\n",
    "shots = 1000\n",
    "\n",
    "optimizer = COBYLA(maxiter=maxiter, tol=tol, callback=callback_function)"
   ]
  },
  {
   "cell_type": "markdown",
   "metadata": {
    "collapsed": false
   },
   "source": [
    "Uncomment the lines below when running on hardware. Note again that this will take a very long time to finish."
   ]
  },
  {
   "cell_type": "code",
   "execution_count": null,
   "metadata": {
    "collapsed": false
   },
   "outputs": [],
   "source": [
    "initial_params = rng.uniform(0., 2. * np.pi, size=len(theta))\n",
    "\n",
    "#losses = list()\n",
    "#min_result = optimizer.minimize(objective_function, initial_params)\n",
    "#plt.plot(losses)"
   ]
  },
  {
   "cell_type": "code",
   "execution_count": null,
   "metadata": {
    "collapsed": false
   },
   "outputs": [],
   "source": [
    "x_list = np.linspace(x_min, x_max, 100)\n",
    "\n",
    "y_pred = yvals(min_result.x, x_vals=x_list)\n",
    "\n",
    "# Make a result plot\n",
    "plt.plot(x_train, y_train_noise, \"o\", label='Training Data (w/ Noise)')\n",
    "plt.plot(x_list, func_to_learn(x_list), label='Original Function')\n",
    "plt.plot(x_list, np.array(y_pred), label='Predicted Function')\n",
    "plt.legend();"
   ]
  }
 ],
 "metadata": {
  "kernelspec": {
   "display_name": "Python 3 (ipykernel)",
   "language": "python",
   "name": "python3"
  },
  "language_info": {
   "codemirror_mode": {
    "name": "ipython",
    "version": 3
   },
   "file_extension": ".py",
   "mimetype": "text/x-python",
   "name": "python",
   "nbconvert_exporter": "python",
   "pygments_lexer": "ipython3",
   "version": "3.10.12"
  }
 },
 "nbformat": 4,
 "nbformat_minor": 4
}

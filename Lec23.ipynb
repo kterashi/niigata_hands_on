{
 "cells": [
  {
   "cell_type": "markdown",
   "id": "c7a1e479-c92a-4611-820b-3a0451f665c4",
   "metadata": {},
   "source": [
    "<a href=\"https://colab.research.google.com/github/kterashi/niigata_lecture_2024/blob/master/Lec23.ipynb\" target=\"_parent\"><img src=\"https://colab.research.google.com/assets/colab-badge.svg\" alt=\"Open In Colab\"/></a>"
   ]
  },
  {
   "cell_type": "markdown",
   "source": [
    "# Simulator, Quantum States, Function, Inner Products, Quantum Teleportation\n",
    "\n",
    "**Basics of quantum computation and quantum algorithms**\n",
    "\n",
    "$\\newcommand{\\ket}[1]{|#1\\rangle}$\n",
    "$\\newcommand{\\braket}[2]{\\langle #1 | #2 \\rangle}$"
   ],
   "metadata": {
    "collapsed": false
   },
   "id": "298d68e3fca7215c"
  },
  {
   "cell_type": "code",
   "execution_count": 1,
   "id": "6d64101b-a6db-4921-bc56-7d5213bb29c5",
   "metadata": {
    "pycharm": {
     "is_executing": true
    },
    "tags": [
     "remove-output"
    ],
    "ExecuteTime": {
     "end_time": "2024-12-12T06:47:39.198812Z",
     "start_time": "2024-12-12T06:47:39.073168Z"
    }
   },
   "outputs": [
    {
     "ename": "ModuleNotFoundError",
     "evalue": "No module named 'google'",
     "output_type": "error",
     "traceback": [
      "\u001B[0;31m---------------------------------------------------------------------------\u001B[0m",
      "\u001B[0;31mModuleNotFoundError\u001B[0m                       Traceback (most recent call last)",
      "Cell \u001B[0;32mIn[1], line 6\u001B[0m\n\u001B[1;32m      4\u001B[0m \u001B[38;5;28;01mimport\u001B[39;00m \u001B[38;5;21;01mshutil\u001B[39;00m\n\u001B[1;32m      5\u001B[0m \u001B[38;5;28;01mimport\u001B[39;00m \u001B[38;5;21;01mtarfile\u001B[39;00m\n\u001B[0;32m----> 6\u001B[0m \u001B[38;5;28;01mfrom\u001B[39;00m \u001B[38;5;21;01mgoogle\u001B[39;00m\u001B[38;5;21;01m.\u001B[39;00m\u001B[38;5;21;01mcolab\u001B[39;00m \u001B[38;5;28;01mimport\u001B[39;00m drive\n\u001B[1;32m      7\u001B[0m drive\u001B[38;5;241m.\u001B[39mmount(\u001B[38;5;124m'\u001B[39m\u001B[38;5;124m/content/gdrive\u001B[39m\u001B[38;5;124m'\u001B[39m)\n\u001B[1;32m      8\u001B[0m shutil\u001B[38;5;241m.\u001B[39mcopy(\u001B[38;5;124m'\u001B[39m\u001B[38;5;124m/content/gdrive/MyDrive/qcintro.tar.gz\u001B[39m\u001B[38;5;124m'\u001B[39m, \u001B[38;5;124m'\u001B[39m\u001B[38;5;124m.\u001B[39m\u001B[38;5;124m'\u001B[39m)\n",
      "\u001B[0;31mModuleNotFoundError\u001B[0m: No module named 'google'"
     ]
    }
   ],
   "source": [
    "# First, get all the necessary libraries from the copy and import packages\n",
    "import os\n",
    "import sys\n",
    "import shutil\n",
    "import tarfile\n",
    "from google.colab import drive\n",
    "drive.mount('/content/gdrive')\n",
    "shutil.copy('/content/gdrive/MyDrive/qcintro.tar.gz', '.')\n",
    "with tarfile.open('qcintro.tar.gz', 'r:gz') as tar:\n",
    "    tar.extractall(path='/root/.local')\n",
    "\n",
    "sys.path.append('/root/.local/lib/python3.10/site-packages')"
   ]
  },
  {
   "cell_type": "code",
   "outputs": [
    {
     "name": "stdout",
     "output_type": "stream",
     "text": [
      "notebook ready\n"
     ]
    }
   ],
   "source": [
    "# Import everything\n",
    "import numpy as np\n",
    "import matplotlib.pyplot as plt\n",
    "from IPython.display import Math\n",
    "from qiskit import QuantumCircuit, QuantumRegister, ClassicalRegister, transpile\n",
    "from qiskit_aer import AerSimulator\n",
    "from qiskit_aer.primitives import SamplerV2 as Sampler\n",
    "from qiskit_ibm_runtime import QiskitRuntimeService\n",
    "from qiskit_ibm_runtime.accounts import AccountNotFoundError\n",
    "\n",
    "runtime_config_path = '/content/gdrive/MyDrive/qiskit-ibm.json'\n",
    "from qc_workbook.show_state import statevector_expr\n",
    "from qc_workbook.utils import operational_backend\n",
    "\n",
    "print('notebook ready')"
   ],
   "metadata": {
    "collapsed": false,
    "ExecuteTime": {
     "end_time": "2024-12-12T06:55:18.272012Z",
     "start_time": "2024-12-12T06:55:15.685553Z"
    }
   },
   "id": "7c6fb21be4fe3dd9",
   "execution_count": 2
  },
  {
   "cell_type": "markdown",
   "id": "c8cbd7a3-d9e5-413d-971c-c9d2d18b7c84",
   "metadata": {},
   "source": [
    "## Preparation: State-vector simulator and mathematical expression of state vector\n",
    "\n",
    "In order to examine a quantum state more closely, one can use the state-vector simulator in Qiskit's `AerSimulator`. The state-vector simulator allows us to access full information about quantum states including amplitudes of all computational basis states at the output of the circuit."
   ]
  },
  {
   "cell_type": "code",
   "execution_count": 3,
   "id": "df946b3d-25d2-466d-b386-5d64f29f59df",
   "metadata": {
    "pycharm": {
     "is_executing": true
    },
    "ExecuteTime": {
     "end_time": "2024-12-12T06:55:25.391425Z",
     "start_time": "2024-12-12T06:55:25.385554Z"
    }
   },
   "outputs": [
    {
     "name": "stdout",
     "output_type": "stream",
     "text": [
      "aer_simulator_statevector\n"
     ]
    }
   ],
   "source": [
    "simulator = AerSimulator(method='statevector')\n",
    "print(simulator.name)"
   ]
  },
  {
   "cell_type": "markdown",
   "id": "b6824843-5e62-4ed4-a2e2-90e7eb2335ba",
   "metadata": {},
   "source": [
    "Example:"
   ]
  },
  {
   "cell_type": "code",
   "execution_count": 4,
   "id": "f06a95c1-d0e5-41ae-9d97-e47276774d23",
   "metadata": {
    "pycharm": {
     "is_executing": true
    },
    "ExecuteTime": {
     "end_time": "2024-12-12T06:55:28.710910Z",
     "start_time": "2024-12-12T06:55:28.434959Z"
    }
   },
   "outputs": [
    {
     "data": {
      "text/plain": "<Figure size 370.906x200.667 with 1 Axes>",
      "image/png": "[encoded data removed]"
     },
     "execution_count": 4,
     "metadata": {},
     "output_type": "execute_result"
    }
   ],
   "source": [
    "circuit = QuantumCircuit(2)\n",
    "circuit.h(0)\n",
    "circuit.cx(0, 1)\n",
    "circuit.ry(-3. * np.pi / 4., 1)\n",
    "\n",
    "# Not measure_all() to access quantum states at the end of the circuit\n",
    "\n",
    "circuit.draw('mpl')"
   ]
  },
  {
   "cell_type": "markdown",
   "id": "ccff3e61",
   "metadata": {
    "collapsed": false
   },
   "source": [
    "For now, just ignore what the 'transpile()' function does. We use `result.data()['statevector']` to get the state vector instead of `result.get_counts()` which will be used later to get measured counts."
   ]
  },
  {
   "cell_type": "code",
   "execution_count": 5,
   "id": "32aad9a8-1193-4cd6-94ae-867e1d8e8b5e",
   "metadata": {
    "pycharm": {
     "is_executing": true
    },
    "ExecuteTime": {
     "end_time": "2024-12-12T06:55:30.303591Z",
     "start_time": "2024-12-12T06:55:30.145381Z"
    }
   },
   "outputs": [
    {
     "name": "stdout",
     "output_type": "stream",
     "text": [
      "<class 'numpy.ndarray'> complex128\n",
      "[ 0.27059805+0.j  0.65328148+0.j -0.65328148+0.j  0.27059805+0.j]\n"
     ]
    }
   ],
   "source": [
    "def get_statevector_array(circuit):\n",
    "    # Use a copy of the circuit in argument\n",
    "    circuit = circuit.copy()\n",
    "    # Instruction to store the state vector in the final state of the circuit\n",
    "    circuit.save_statevector()\n",
    "    # \"Transpile\" the circuit and run\n",
    "    circuit = transpile(circuit, backend=simulator)\n",
    "    job = simulator.run(circuit)\n",
    "    result = job.result()\n",
    "    qiskit_statevector = result.data()['statevector']\n",
    "\n",
    "    # result.data()['statevector'] is not a numpy array but an instance of a Qiskit class.\n",
    "    # It can be converted to a numpy array (ndarray) using np.asarray()\n",
    "    return np.asarray(qiskit_statevector)\n",
    "\n",
    "statevector = get_statevector_array(circuit)\n",
    "print(type(statevector), statevector.dtype)\n",
    "print(statevector)"
   ]
  },
  {
   "cell_type": "markdown",
   "id": "ada11199-9810-4f35-ac8c-026b0453c368",
   "metadata": {},
   "source": [
    "Below we use `statevector_expr` function defined in qc_workbook module to express the array of state vectors in mathematical form."
   ]
  },
  {
   "cell_type": "code",
   "execution_count": 6,
   "id": "e7f13e42-d1be-44dd-a34d-a49543a5e8a9",
   "metadata": {
    "pycharm": {
     "is_executing": true
    },
    "ExecuteTime": {
     "end_time": "2024-12-12T06:55:32.956489Z",
     "start_time": "2024-12-12T06:55:32.951013Z"
    }
   },
   "outputs": [
    {
     "data": {
      "text/plain": "<IPython.core.display.Math object>",
      "text/latex": "$\\displaystyle | \\text{final} \\rangle = 0.271 |0\\rangle + 0.653 |1\\rangle - 0.653 |2\\rangle + 0.271 |3\\rangle$"
     },
     "execution_count": 6,
     "metadata": {},
     "output_type": "execute_result"
    }
   ],
   "source": [
    "expr = statevector_expr(statevector)\n",
    "\n",
    "# Typesetting in LaTeX using Math()\n",
    "Math(expr)"
   ]
  },
  {
   "cell_type": "markdown",
   "id": "341e7b61-3089-4975-9d31-2795c7aa8102",
   "metadata": {},
   "source": [
    "## Creation of simple quantum states"
   ]
  },
  {
   "cell_type": "markdown",
   "id": "025197c4-ac3d-490c-b179-8ed58084003b",
   "metadata": {},
   "source": [
    "### Exercise 1: Single-qubit state with relative phase\n",
    "\n",
    "**Exercise**\n",
    "\n",
    "Create the folowing single-qubit state:\n",
    "\n",
    "$$\n",
    "\\frac{1}{\\sqrt{2}}\\left(\\ket{0} + i\\ket{1}\\right)\n",
    "$$\n"
   ]
  },
  {
   "cell_type": "code",
   "execution_count": 7,
   "id": "295e200f-107e-49d2-9e82-c2788c9fe947",
   "metadata": {
    "tags": [
     "remove-output"
    ],
    "ExecuteTime": {
     "end_time": "2024-12-07T02:58:26.598879Z",
     "start_time": "2024-12-07T02:58:26.568636Z"
    }
   },
   "outputs": [
    {
     "data": {
      "text/plain": "<qiskit.circuit.instructionset.InstructionSet at 0x1268e8b50>"
     },
     "execution_count": 7,
     "metadata": {},
     "output_type": "execute_result"
    }
   ],
   "source": [
    "circuit = QuantumCircuit(1)\n",
    "\n",
    "circuit.h(0)\n",
    "circuit.p(np.pi / 2., 0)\n",
    "# ?????"
   ]
  },
  {
   "cell_type": "code",
   "execution_count": 8,
   "id": "adfeffdf-f46d-4625-80f8-ac6c5310fd98",
   "metadata": {
    "ExecuteTime": {
     "end_time": "2024-12-07T02:58:30.110383Z",
     "start_time": "2024-12-07T02:58:29.979214Z"
    }
   },
   "outputs": [
    {
     "data": {
      "text/plain": "<IPython.core.display.Math object>",
      "text/latex": "$\\displaystyle | \\text{final} \\rangle = \\frac{1}{\\sqrt{2}}\\left( |0\\rangle + i |1\\rangle\\right)$"
     },
     "execution_count": 8,
     "metadata": {},
     "output_type": "execute_result"
    }
   ],
   "source": [
    "# The statevector_expr function can be augmented with a QuantumCircuit object.\n",
    "# amp_norm is an option to specify the normalization of amplitudes.\n",
    "expr = statevector_expr(circuit, amp_norm=(np.sqrt(0.5), r'\\frac{1}{\\sqrt{2}}'))\n",
    "Math(expr)"
   ]
  },
  {
   "cell_type": "markdown",
   "id": "7f0035bc-8f88-4bee-8faf-6a0b95a515ef",
   "metadata": {},
   "source": [
    "### Exercise 2: Bell state with relative phase\n",
    "\n",
    "**Exercise**\n",
    "\n",
    "Create the following 2-qubit state:\n",
    "\n",
    "$$\n",
    "\\frac{1}{\\sqrt{2}}\\left(\\ket{0} + i\\ket{3}\\right) = \\frac{1}{\\sqrt{2}}\\left(\\ket{00} + i\\ket{11}\\right)\n",
    "$$\n"
   ]
  },
  {
   "cell_type": "code",
   "execution_count": 9,
   "id": "5ee96467-c6b1-4790-a3c9-4ab5ba777a22",
   "metadata": {
    "tags": [
     "remove-output"
    ],
    "ExecuteTime": {
     "end_time": "2024-12-07T02:58:47.205846Z",
     "start_time": "2024-12-07T02:58:47.195650Z"
    }
   },
   "outputs": [
    {
     "data": {
      "text/plain": "<qiskit.circuit.instructionset.InstructionSet at 0x126eab1c0>"
     },
     "execution_count": 9,
     "metadata": {},
     "output_type": "execute_result"
    }
   ],
   "source": [
    "circuit = QuantumCircuit(2)\n",
    "\n",
    "circuit.h(0)\n",
    "circuit.p(np.pi / 2., 0)\n",
    "circuit.cx(0, 1)\n",
    "# ?????"
   ]
  },
  {
   "cell_type": "code",
   "execution_count": 10,
   "id": "422a1859-4a75-4b43-a449-8d0f852a6490",
   "metadata": {
    "tags": [
     "remove-output"
    ],
    "ExecuteTime": {
     "end_time": "2024-12-07T02:58:48.654055Z",
     "start_time": "2024-12-07T02:58:48.521419Z"
    }
   },
   "outputs": [
    {
     "data": {
      "text/plain": "<IPython.core.display.Math object>",
      "text/latex": "$\\displaystyle | \\text{final} \\rangle = \\frac{1}{\\sqrt{2}}\\left( |0\\rangle + i |3\\rangle\\right)$"
     },
     "execution_count": 10,
     "metadata": {},
     "output_type": "execute_result"
    }
   ],
   "source": [
    "expr = statevector_expr(circuit, amp_norm=(np.sqrt(0.5), r'\\frac{1}{\\sqrt{2}}'))\n",
    "Math(expr)"
   ]
  },
  {
   "cell_type": "markdown",
   "id": "e00eaf18-f1db-419e-b983-a65608eeee94",
   "metadata": {},
   "source": [
    "### Exercise 3: GHZ state\n",
    "\n",
    "**Exercise**\n",
    "\n",
    "Create the following 3-qubit state:\n",
    "\n",
    "$$\n",
    "\\frac{1}{\\sqrt{2}} (\\ket{0} + \\ket{7}) = \\frac{1}{\\sqrt{2}} (\\ket{000} + \\ket{111})\n",
    "$$\n"
   ]
  },
  {
   "cell_type": "code",
   "execution_count": 11,
   "id": "be38a86d-b474-4d93-8ce3-0e13a963081b",
   "metadata": {
    "tags": [
     "remove-output"
    ],
    "ExecuteTime": {
     "end_time": "2024-12-07T02:59:10.236099Z",
     "start_time": "2024-12-07T02:59:10.217512Z"
    }
   },
   "outputs": [
    {
     "data": {
      "text/plain": "<qiskit.circuit.instructionset.InstructionSet at 0x126eab790>"
     },
     "execution_count": 11,
     "metadata": {},
     "output_type": "execute_result"
    }
   ],
   "source": [
    "circuit = QuantumCircuit(3)\n",
    "\n",
    "circuit.h(0)\n",
    "circuit.cx(0, 1)\n",
    "circuit.mcx([0, 1], 2)\n",
    "# ?????"
   ]
  },
  {
   "cell_type": "code",
   "execution_count": 12,
   "id": "c5652faa-1e0f-4675-9097-9088cdb0dc20",
   "metadata": {
    "tags": [
     "remove-output"
    ],
    "ExecuteTime": {
     "end_time": "2024-12-07T02:59:12.496073Z",
     "start_time": "2024-12-07T02:59:12.312602Z"
    }
   },
   "outputs": [
    {
     "data": {
      "text/plain": "<IPython.core.display.Math object>",
      "text/latex": "$\\displaystyle | \\text{final} \\rangle = \\frac{1}{\\sqrt{2}}\\left( |0\\rangle +  |7\\rangle\\right)$"
     },
     "execution_count": 12,
     "metadata": {},
     "output_type": "execute_result"
    }
   ],
   "source": [
    "expr = statevector_expr(circuit, amp_norm=(np.sqrt(0.5), r'\\frac{1}{\\sqrt{2}}'))\n",
    "Math(expr)"
   ]
  },
  {
   "cell_type": "markdown",
   "id": "a074fed5-d09d-4511-95eb-e2ec96680849",
   "metadata": {},
   "source": [
    "### Exercise 4: Equal superposition state\n",
    "\n",
    "**Exercise**\n",
    "\n",
    "Construct a quantum circuit to create the following $n$-qubit state:\n",
    "\n",
    "$$\n",
    "\\frac{1}{\\sqrt{2^n}} \\sum_{k=0}^{2^n-1} \\ket{k}\n",
    "$$\n",
    "\n",
    "and implement the circuit for $n=4$.\n"
   ]
  },
  {
   "cell_type": "markdown",
   "source": [],
   "metadata": {
    "collapsed": false
   },
   "id": "8cb401203d0e3d47"
  },
  {
   "cell_type": "code",
   "execution_count": 14,
   "id": "cf2da9bf-38d5-4625-aa3c-a63beb4402bd",
   "metadata": {
    "tags": [
     "remove-output"
    ],
    "ExecuteTime": {
     "end_time": "2024-12-07T02:59:52.818410Z",
     "start_time": "2024-12-07T02:59:52.812852Z"
    }
   },
   "outputs": [],
   "source": [
    "num_qubits = 4\n",
    "\n",
    "circuit = QuantumCircuit(num_qubits)\n",
    "\n",
    "for i in range(num_qubits):\n",
    "    circuit.h(i)\n",
    "# ?????"
   ]
  },
  {
   "cell_type": "code",
   "execution_count": 15,
   "id": "de455bfd-2bd7-4fdc-ad0b-e1cea0570f0c",
   "metadata": {
    "tags": [
     "remove-output"
    ],
    "ExecuteTime": {
     "end_time": "2024-12-07T02:59:53.714668Z",
     "start_time": "2024-12-07T02:59:53.559818Z"
    }
   },
   "outputs": [
    {
     "data": {
      "text/plain": "<IPython.core.display.Math object>",
      "text/latex": "$\\displaystyle | \\text{final} \\rangle = \\frac{1}{4}\\left( |0\\rangle +  |1\\rangle +  |2\\rangle +  |3\\rangle +  |4\\rangle +  |5\\rangle +  |6\\rangle +  |7\\rangle +  |8\\rangle +  |9\\rangle +  |10\\rangle +  |11\\rangle +  |12\\rangle +  |13\\rangle +  |14\\rangle +  |15\\rangle\\right)$"
     },
     "execution_count": 15,
     "metadata": {},
     "output_type": "execute_result"
    }
   ],
   "source": [
    "sqrt_2_to_n = 2 ** (num_qubits // 2)\n",
    "expr = statevector_expr(circuit, amp_norm=(1. / sqrt_2_to_n, r'\\frac{1}{%d}' % sqrt_2_to_n))\n",
    "Math(expr)"
   ]
  },
  {
   "cell_type": "markdown",
   "id": "041ce72f-605e-4606-9ab6-c885b23b302c",
   "metadata": {},
   "source": [
    "### Exercise 5: Flip the sign of a certain basis state\n",
    "\n",
    "**Exercise**\n",
    "\n",
    "Construct a quantum circuit to flip the sign of a given basis state $\\ket{5} = \\ket{0101}$ for the 4-qubit equal superposition state created above in Exercise 4.\n"
   ]
  },
  {
   "cell_type": "code",
   "execution_count": 18,
   "id": "c8593c76-9e6a-4d3d-991f-c88b98015a73",
   "metadata": {
    "tags": [
     "remove-output"
    ],
    "ExecuteTime": {
     "end_time": "2024-12-07T03:01:27.680370Z",
     "start_time": "2024-12-07T03:01:27.661719Z"
    }
   },
   "outputs": [
    {
     "data": {
      "text/plain": "<qiskit.circuit.instructionset.InstructionSet at 0x126f2bf70>"
     },
     "execution_count": 18,
     "metadata": {},
     "output_type": "execute_result"
    }
   ],
   "source": [
    "num_qubits = 4\n",
    "\n",
    "circuit = QuantumCircuit(num_qubits)\n",
    "\n",
    "for i in range(num_qubits):\n",
    "    circuit.h(i)\n",
    "\n",
    "circuit.x(1)\n",
    "circuit.x(3)\n",
    "circuit.mcp(np.pi, [0, 1, 2], 3)\n",
    "circuit.x(1)\n",
    "circuit.x(3)\n",
    "# ?????"
   ]
  },
  {
   "cell_type": "code",
   "execution_count": 19,
   "id": "7ee534f9-58a6-48ff-a37a-18b0313c51c2",
   "metadata": {
    "tags": [
     "remove-output"
    ],
    "ExecuteTime": {
     "end_time": "2024-12-07T03:01:29.043699Z",
     "start_time": "2024-12-07T03:01:28.902829Z"
    }
   },
   "outputs": [
    {
     "data": {
      "text/plain": "<IPython.core.display.Math object>",
      "text/latex": "$\\displaystyle | \\text{final} \\rangle = \\frac{1}{4}\\left( |0\\rangle +  |1\\rangle +  |2\\rangle +  |3\\rangle +  |4\\rangle -  |5\\rangle +  |6\\rangle +  |7\\rangle +  |8\\rangle +  |9\\rangle +  |10\\rangle +  |11\\rangle +  |12\\rangle +  |13\\rangle +  |14\\rangle +  |15\\rangle\\right)$"
     },
     "execution_count": 19,
     "metadata": {},
     "output_type": "execute_result"
    }
   ],
   "source": [
    "sqrt_2_to_n = 2 ** (num_qubits // 2)\n",
    "expr = statevector_expr(circuit, amp_norm=(1. / sqrt_2_to_n, r'\\frac{1}{%d}' % sqrt_2_to_n))\n",
    "Math(expr)"
   ]
  },
  {
   "cell_type": "markdown",
   "id": "1b5edd33-a5fc-4f45-9492-8913de990f43",
   "metadata": {},
   "source": [
    "### Exercise 6: Apply a phase shift to equal superposition state\n",
    "\n",
    "**Exercise**\n",
    "\n",
    "Consider a quantum circuit to create the following $n$-qubit state:\n",
    "\n",
    "$$\n",
    "\\frac{1}{\\sqrt{2^n}}\\sum_{k=0}^{2^n-1} e^{2\\pi i s k/2^n} \\ket{k} \\quad (s \\in \\mathbb{R})\n",
    "$$\n",
    "\n",
    "and implment the circuit for $n=6$ and $s=2.5$.\n",
    "\n",
    "Actually this circuit will be better understood after we learn the Quantum Fourier Transform. Let's come back later."
   ]
  },
  {
   "cell_type": "code",
   "execution_count": 20,
   "id": "a58224ca-84dc-46e6-a1f1-9f260bacd297",
   "metadata": {
    "tags": [
     "output_scroll",
     "remove-output"
    ],
    "ExecuteTime": {
     "end_time": "2024-12-07T03:02:04.475154Z",
     "start_time": "2024-12-07T03:02:04.461009Z"
    }
   },
   "outputs": [],
   "source": [
    "num_qubits = 6\n",
    "\n",
    "circuit = QuantumCircuit(num_qubits)\n",
    "\n",
    "s = 2.5\n",
    "\n",
    "for m in range(num_qubits):\n",
    "    circuit.h(m)\n",
    "    circuit.p(2. * np.pi * s / (2 ** (num_qubits - m)), m)\n",
    "# ?????"
   ]
  },
  {
   "cell_type": "code",
   "execution_count": 21,
   "id": "7f7bdc94-62d8-4f79-a87b-273b12347268",
   "metadata": {
    "tags": [
     "output_scroll",
     "remove-output"
    ],
    "ExecuteTime": {
     "end_time": "2024-12-07T03:02:06.973101Z",
     "start_time": "2024-12-07T03:02:06.880080Z"
    }
   },
   "outputs": [
    {
     "data": {
      "text/plain": "<IPython.core.display.Math object>",
      "text/latex": "$\\displaystyle | \\text{final} \\rangle = \\frac{1}{8}\\left( |0\\rangle + e^{2.50 \\cdot \\frac{2 \\pi i}{64} i} |1\\rangle + e^{5 \\cdot \\frac{2 \\pi i}{64} i} |2\\rangle + e^{7.50 \\cdot \\frac{2 \\pi i}{64} i} |3\\rangle + e^{10 \\cdot \\frac{2 \\pi i}{64} i} |4\\rangle + e^{12.50 \\cdot \\frac{2 \\pi i}{64} i} |5\\rangle + e^{15 \\cdot \\frac{2 \\pi i}{64} i} |6\\rangle + e^{17.50 \\cdot \\frac{2 \\pi i}{64} i} |7\\rangle + e^{20 \\cdot \\frac{2 \\pi i}{64} i} |8\\rangle + e^{22.50 \\cdot \\frac{2 \\pi i}{64} i} |9\\rangle + e^{25 \\cdot \\frac{2 \\pi i}{64} i} |10\\rangle + e^{27.50 \\cdot \\frac{2 \\pi i}{64} i} |11\\rangle + e^{30 \\cdot \\frac{2 \\pi i}{64} i} |12\\rangle + e^{32.50 \\cdot \\frac{2 \\pi i}{64} i} |13\\rangle + e^{35 \\cdot \\frac{2 \\pi i}{64} i} |14\\rangle + e^{37.50 \\cdot \\frac{2 \\pi i}{64} i} |15\\rangle + e^{40 \\cdot \\frac{2 \\pi i}{64} i} |16\\rangle + e^{42.50 \\cdot \\frac{2 \\pi i}{64} i} |17\\rangle + e^{45 \\cdot \\frac{2 \\pi i}{64} i} |18\\rangle + e^{47.50 \\cdot \\frac{2 \\pi i}{64} i} |19\\rangle + e^{50 \\cdot \\frac{2 \\pi i}{64} i} |20\\rangle + e^{52.50 \\cdot \\frac{2 \\pi i}{64} i} |21\\rangle + e^{55 \\cdot \\frac{2 \\pi i}{64} i} |22\\rangle + e^{57.50 \\cdot \\frac{2 \\pi i}{64} i} |23\\rangle + e^{60 \\cdot \\frac{2 \\pi i}{64} i} |24\\rangle + e^{62.50 \\cdot \\frac{2 \\pi i}{64} i} |25\\rangle + e^{\\frac{2 \\pi i}{64} i} |26\\rangle + e^{3.50 \\cdot \\frac{2 \\pi i}{64} i} |27\\rangle + e^{6 \\cdot \\frac{2 \\pi i}{64} i} |28\\rangle + e^{8.50 \\cdot \\frac{2 \\pi i}{64} i} |29\\rangle + e^{11 \\cdot \\frac{2 \\pi i}{64} i} |30\\rangle + e^{13.50 \\cdot \\frac{2 \\pi i}{64} i} |31\\rangle + i |32\\rangle + e^{18.50 \\cdot \\frac{2 \\pi i}{64} i} |33\\rangle + e^{21 \\cdot \\frac{2 \\pi i}{64} i} |34\\rangle + e^{23.50 \\cdot \\frac{2 \\pi i}{64} i} |35\\rangle + e^{26 \\cdot \\frac{2 \\pi i}{64} i} |36\\rangle + e^{28.50 \\cdot \\frac{2 \\pi i}{64} i} |37\\rangle + e^{31 \\cdot \\frac{2 \\pi i}{64} i} |38\\rangle + e^{33.50 \\cdot \\frac{2 \\pi i}{64} i} |39\\rangle + e^{36 \\cdot \\frac{2 \\pi i}{64} i} |40\\rangle + e^{38.50 \\cdot \\frac{2 \\pi i}{64} i} |41\\rangle + e^{41 \\cdot \\frac{2 \\pi i}{64} i} |42\\rangle + e^{43.50 \\cdot \\frac{2 \\pi i}{64} i} |43\\rangle + e^{46 \\cdot \\frac{2 \\pi i}{64} i} |44\\rangle + e^{48.50 \\cdot \\frac{2 \\pi i}{64} i} |45\\rangle + e^{51 \\cdot \\frac{2 \\pi i}{64} i} |46\\rangle + e^{53.50 \\cdot \\frac{2 \\pi i}{64} i} |47\\rangle + e^{56 \\cdot \\frac{2 \\pi i}{64} i} |48\\rangle + e^{58.50 \\cdot \\frac{2 \\pi i}{64} i} |49\\rangle + e^{61 \\cdot \\frac{2 \\pi i}{64} i} |50\\rangle + e^{63.50 \\cdot \\frac{2 \\pi i}{64} i} |51\\rangle + e^{2 \\cdot \\frac{2 \\pi i}{64} i} |52\\rangle + e^{4.50 \\cdot \\frac{2 \\pi i}{64} i} |53\\rangle + e^{7 \\cdot \\frac{2 \\pi i}{64} i} |54\\rangle + e^{9.50 \\cdot \\frac{2 \\pi i}{64} i} |55\\rangle + e^{12 \\cdot \\frac{2 \\pi i}{64} i} |56\\rangle + e^{14.50 \\cdot \\frac{2 \\pi i}{64} i} |57\\rangle + e^{17 \\cdot \\frac{2 \\pi i}{64} i} |58\\rangle + e^{19.50 \\cdot \\frac{2 \\pi i}{64} i} |59\\rangle + e^{22 \\cdot \\frac{2 \\pi i}{64} i} |60\\rangle + e^{24.50 \\cdot \\frac{2 \\pi i}{64} i} |61\\rangle + e^{27 \\cdot \\frac{2 \\pi i}{64} i} |62\\rangle + e^{29.50 \\cdot \\frac{2 \\pi i}{64} i} |63\\rangle\\right)$"
     },
     "execution_count": 21,
     "metadata": {},
     "output_type": "execute_result"
    }
   ],
   "source": [
    "sqrt_2_to_n = 2 ** (num_qubits // 2)\n",
    "amp_norm = (1. / sqrt_2_to_n, r'\\frac{1}{%d}' % sqrt_2_to_n)\n",
    "phase_norm = (2 * np.pi / (2 ** num_qubits), r'\\frac{2 \\pi i}{%d}' % (2 ** num_qubits))\n",
    "expr = statevector_expr(circuit, amp_norm, phase_norm=phase_norm)\n",
    "Math(expr)"
   ]
  },
  {
   "cell_type": "markdown",
   "source": [
    "## Function"
   ],
   "metadata": {
    "collapsed": false
   },
   "id": "65ff2021e1f307dc"
  },
  {
   "cell_type": "markdown",
   "source": [
    "Quantum circuit of the function $f$ that takes the value $x \\in \\{0, \\dots, 7\\}$ as an argument, then returns $15 - x$:\n",
    "\n",
    "$$\n",
    "U_{f}\\ket{y}\\ket{x} = \\ket{y \\oplus f(x)}\\ket{x}\n",
    "$$"
   ],
   "metadata": {
    "collapsed": false
   },
   "id": "15c8bc833466ca29"
  },
  {
   "cell_type": "code",
   "outputs": [],
   "source": [
    "input_register = QuantumRegister(3, name='input')\n",
    "output_register = QuantumRegister(4, name='output')\n",
    "\n",
    "circuit = QuantumCircuit(input_register, output_register)\n",
    "\n",
    "# Assign some number (e.g, 6) to input_register\n",
    "circuit.x(input_register[1])\n",
    "circuit.x(input_register[2])\n",
    "\n",
    "circuit.barrier()\n",
    "\n",
    "# U_f that performs subtraction\n",
    "# First, all the bits in output_register are set 1\n",
    "circuit.x(output_register)\n",
    "for idx in range(3):\n",
    "    # When a bit in input_register is 1, the corresponding bit in output_register is flipped with CNOT gate\n",
    "    circuit.cx(input_register[idx], output_register[idx])\n",
    "\n",
    "circuit.draw('mpl')"
   ],
   "metadata": {
    "collapsed": false
   },
   "id": "8fd5c67d93637d8d"
  },
  {
   "cell_type": "code",
   "outputs": [],
   "source": [
    "Math(statevector_expr(circuit, register_sizes=[3, 4]))"
   ],
   "metadata": {
    "collapsed": false
   },
   "id": "ce0c300c9f322fe4"
  },
  {
   "cell_type": "markdown",
   "id": "07457265",
   "metadata": {
    "collapsed": false
   },
   "source": [
    "## Inner product of state vectors"
   ]
  },
  {
   "cell_type": "markdown",
   "id": "3511aba1",
   "metadata": {
    "collapsed": false
   },
   "source": [
    "Now let's take a look at the square of inner product $|\\braket{\\psi}{\\phi}|^2$ between two quantum states $\\ket{\\psi}$ and $\\ket{\\phi}$.\n",
    "\n",
    "First, for the following states:\n",
    "$$\n",
    "\\begin{split}\n",
    "\\ket{\\psi} = \\sum_{k=0}^{2^n-1} c_k \\ket{k} \\\\\n",
    "\\ket{\\phi} = \\sum_{k=0}^{2^n-1} d_k \\ket{k}\n",
    "\\end{split}\n",
    "$$\n",
    "\n",
    "the inner prouduct is defined to be\n",
    "\n",
    "$$\n",
    "\\braket{\\psi}{\\phi} = \\sum_{k=0}^{2^n-1} c^{*}_k d_k\n",
    "$$\n",
    "\n",
    "The inner product has the following important property, called Cauchy-Schwarz inequality.\n",
    "\n",
    "$$\n",
    "\\begin{split}\n",
    "0 \\leq |\\braket{\\psi}{\\phi}|^2 \\leq 1 \\\\\n",
    "|\\braket{\\psi}{\\phi}|^2 = 1 \\; \\text{iff} \\; \\ket{\\psi} \\sim \\ket{\\phi}\n",
    "\\end{split}\n",
    "$$\n"
   ]
  },
  {
   "cell_type": "markdown",
   "id": "8a42af86-c39d-4a3d-abea-20404eaff38e",
   "metadata": {},
   "source": [
    "### Exercise: Inner product by SWAP test\n",
    "\n",
    "Let us calculate the inner product by using SWAP test.\n",
    "\n",
    "The $\\ket{\\psi}$ and $\\ket{\\phi}$ are both 3-qubit states, and we try to obtain the inner product from the probabilities $P_0$ and $P_1$ of measuring 0 and 1, respectively, in a `test` register:\n",
    "\n",
    "$$\n",
    "P_0 - P_1 = |\\braket{\\psi}{\\phi}|^2\n",
    "$$"
   ]
  },
  {
   "cell_type": "code",
   "execution_count": null,
   "id": "91f5caa7-57e9-4861-b85d-ac0c4274ca18",
   "metadata": {},
   "outputs": [],
   "source": [
    "data_width = 3\n",
    "\n",
    "fig, axs = plt.subplots(1, 2)\n",
    "\n",
    "# Circuit to create a certain state |ψ>\n",
    "psi_circuit = QuantumCircuit(data_width, name='|ψ>')\n",
    "psi_circuit.ry(0.7, 2)\n",
    "psi_circuit.cx(2, 1)\n",
    "psi_circuit.rz(0.5, 1)\n",
    "psi_circuit.cx(1, 0)\n",
    "psi_circuit.draw('mpl', ax=axs[0])\n",
    "axs[0].set_title(r'$\\psi$')\n",
    "\n",
    "# Circuit to create a certain state |φ>\n",
    "phi_circuit = QuantumCircuit(data_width, name='|φ>')\n",
    "phi_circuit.rx(1.2, 0)\n",
    "phi_circuit.ry(2.1, 1)\n",
    "phi_circuit.cx(0, 2)\n",
    "phi_circuit.cz(1, 2)\n",
    "phi_circuit.ry(0.8, 2)\n",
    "phi_circuit.draw('mpl', ax=axs[1])\n",
    "axs[1].set_title(r'$\\phi$')\n",
    "\n",
    "# Create a circuit to calculate inner product with SWAP test\n",
    "reg_data1 = QuantumRegister(data_width, name='data1')\n",
    "reg_data2 = QuantumRegister(data_width, name='data2')\n",
    "reg_test = QuantumRegister(1, name='test')\n",
    "out = ClassicalRegister(1, name='out')\n",
    "\n",
    "circuit = QuantumCircuit(reg_data1, reg_data2, reg_test, out, name='SWAP_test')\n",
    "\n",
    "# Have states |ψ> and |φ> in data registers\n",
    "# You can use append() method to implement other circuits or gates into a circuit object\n",
    "# qargs specifies to which qubits of the target circuit a specified circuit is implemented.\n",
    "circuit.append(psi_circuit, qargs=reg_data1)\n",
    "circuit.append(phi_circuit, qargs=reg_data2)\n",
    "\n",
    "# Add barrier for visibility (no computation by barrier)\n",
    "circuit.barrier()\n",
    "\n",
    "# SWAP test\n",
    "circuit.h(reg_test)\n",
    "\n",
    "for idx in range(data_width):\n",
    "    circuit.cswap(reg_test[0], reg_data1[idx], reg_data2[idx])\n",
    "\n",
    "circuit.h(reg_test)\n",
    "\n",
    "circuit.measure(reg_test, out)\n",
    "\n",
    "circuit.draw('mpl')"
   ]
  },
  {
   "cell_type": "markdown",
   "id": "2c8b88c2",
   "metadata": {
    "collapsed": false
   },
   "source": [
    "Let us check the states from the circuits."
   ]
  },
  {
   "cell_type": "code",
   "execution_count": null,
   "id": "120ebd6c-537f-4aaf-9f1a-c02e42c0a78c",
   "metadata": {},
   "outputs": [],
   "source": [
    "# |ψ>\n",
    "Math(statevector_expr(psi_circuit, state_label=r'\\psi'))"
   ]
  },
  {
   "cell_type": "code",
   "execution_count": null,
   "id": "b480f6c8-cb6f-43a6-ab35-a0d91a5c2e91",
   "metadata": {},
   "outputs": [],
   "source": [
    "# |φ>\n",
    "Math(statevector_expr(phi_circuit, state_label=r'\\phi'))"
   ]
  },
  {
   "cell_type": "markdown",
   "id": "953dc585-f520-4f17-8acb-5b8ac61e1941",
   "metadata": {},
   "source": [
    "The inner product square $|\\braket{\\psi}{\\phi}|^2$ is"
   ]
  },
  {
   "cell_type": "code",
   "execution_count": null,
   "id": "985cb89f-b339-4c60-bd70-65db6e6cb8ea",
   "metadata": {},
   "outputs": [],
   "source": [
    "sv_psi = get_statevector_array(psi_circuit)\n",
    "sv_phi = get_statevector_array(phi_circuit)\n",
    "print(np.square(np.abs(np.sum(sv_psi.conjugate() * sv_phi))))"
   ]
  },
  {
   "cell_type": "markdown",
   "id": "22933809-25f0-495b-9555-8cef0f35a7fe",
   "metadata": {},
   "source": [
    "The $P_0 - P_1$ obtained from measuring the circuit 1000000 times is"
   ]
  },
  {
   "cell_type": "code",
   "execution_count": null,
   "id": "4a188a52-e8b8-4a3c-bc9d-7c9f2ac9415b",
   "metadata": {},
   "outputs": [],
   "source": [
    "simulator = AerSimulator()\n",
    "shots = 1000000\n",
    "\n",
    "circuit = transpile(circuit, backend=simulator)\n",
    "counts = simulator.run(circuit, shots=shots).result().get_counts()\n",
    "\n",
    "print((counts.get('0', 0) - counts.get('1', 0)) / shots)"
   ]
  },
  {
   "cell_type": "markdown",
   "id": "5fd530ec-144a-4b44-a04f-378c3bd9525c",
   "metadata": {},
   "source": [
    "### Inner product by inverse circuit\n",
    "\n",
    "If we know how to generate the states $\\ket{\\psi}$ and $\\ket{\\phi}$, the inner product can be calculated directly. Suppose the $\\ket{\\psi}$ ($\\ket{\\phi}$) is generated by applying the unitary operator $U_\\psi$ ($U_\\phi$) to the initial $\\ket{0}$ state, the inner product can be calculated by applying the $U_\\phi$ and the inverse unitary $U_\\psi^\\dagger$ and evaluating the probability $P_0$ of measuring 0 in all qubits, that is\n",
    "\n",
    "$$\n",
    "P_0 = |\\langle 0|U_\\psi^\\dagger U_\\phi\\ket{0}|^2 = |\\braket{\\psi}{\\phi}|^2\n",
    "$$"
   ]
  },
  {
   "cell_type": "code",
   "execution_count": null,
   "id": "7d521846-3a53-484c-bb15-1ff9aa46fde7",
   "metadata": {},
   "outputs": [],
   "source": [
    "reg_data = QuantumRegister(data_width, name='data')\n",
    "out = ClassicalRegister(data_width, name='out')\n",
    "\n",
    "circuit = QuantumCircuit(reg_data, out)\n",
    "\n",
    "circuit.append(phi_circuit, qargs=reg_data)\n",
    "# psi_circuit.inverse() -> Inverse circuit of psi_circuit\n",
    "circuit.append(psi_circuit.inverse(), qargs=reg_data)\n",
    "\n",
    "# Measure the qubits [0, 1, 2, ...] and output thre results in classical bits [0, 1, 2, ...]\n",
    "circuit.measure(range(data_width), range(data_width))\n",
    "\n",
    "circuit.draw('mpl')"
   ]
  },
  {
   "cell_type": "markdown",
   "id": "2b00c06c-335d-4140-8711-d7d60950a609",
   "metadata": {},
   "source": [
    "The $P_0$ is given like this:"
   ]
  },
  {
   "cell_type": "code",
   "execution_count": null,
   "id": "13ce2297-6e05-4f5b-a5e3-6dcb09ab7f7c",
   "metadata": {},
   "outputs": [],
   "source": [
    "sampler = Sampler()\n",
    "shots = 1000000\n",
    "\n",
    "circuit = transpile(circuit, backend=simulator)\n",
    "\n",
    "job_result = sampler.run([circuit], shots=shots).result()\n",
    "counts = job_result[0].data.out.get_counts()\n",
    "\n",
    "print(counts.get('000', 0) / shots)"
   ]
  },
  {
   "cell_type": "markdown",
   "source": [
    "## Quantum Teleportation"
   ],
   "metadata": {
    "collapsed": false
   },
   "id": "4a3f0578cecbc0fe"
  },
  {
   "cell_type": "code",
   "outputs": [],
   "source": [
    "# First, create some state in the input qubits\n",
    "# circuit.u (U3 gate) can create any single-qybit state with three paramters\n",
    "prep_circuit = QuantumCircuit(1, name='prep')\n",
    "prep_circuit.u(0.7, 1.8, 2.1, 0)\n",
    "\n",
    "reg_in = QuantumRegister(1, name='in')\n",
    "reg_out = QuantumRegister(2, name='out')\n",
    "res_in = ClassicalRegister(1)\n",
    "res_ent = ClassicalRegister(1)\n",
    "\n",
    "circuit = QuantumCircuit(reg_in, reg_out, res_in, res_ent)\n",
    "\n",
    "# Set reg_in with the state in prep_register\n",
    "circuit.append(prep_circuit, qargs=reg_in)\n",
    "\n",
    "# Prepare Bell state in reg_out\n",
    "circuit.h(reg_out[0])\n",
    "circuit.cx(reg_out[0], reg_out[1])\n",
    "\n",
    "# Entangle the first qubits in reg_in and reg_out\n",
    "circuit.cx(reg_in[0], reg_out[0])\n",
    "\n",
    "# Apply Hadamard gate to reg_in and maesure\n",
    "circuit.h(reg_in[0])\n",
    "circuit.measure(reg_in[0], res_in[0])\n",
    "\n",
    "# Measure the entangled bit in reg_out\n",
    "circuit.measure(reg_out[0], res_ent[0])\n",
    "\n",
    "# Apply gates to reg_out[1] depending on the results in res_in and res_ent\n",
    "circuit.x(reg_out[1]).c_if(res_ent[0], 1)\n",
    "circuit.z(reg_out[1]).c_if(res_in[0], 1)\n",
    "\n",
    "circuit.draw('mpl')"
   ],
   "metadata": {
    "collapsed": false
   },
   "id": "9d56df6a69163556"
  },
  {
   "cell_type": "markdown",
   "source": [
    "The input state is"
   ],
   "metadata": {
    "collapsed": false
   },
   "id": "ee48be426d049ffa"
  },
  {
   "cell_type": "code",
   "outputs": [],
   "source": [
    "Math(statevector_expr(prep_circuit, state_label=r'\\text{in}'))"
   ],
   "metadata": {
    "collapsed": false
   },
   "id": "60201733a5c8e53c"
  },
  {
   "cell_type": "markdown",
   "source": [
    "The output state from the circuit is"
   ],
   "metadata": {
    "collapsed": false
   },
   "id": "d56b939e4239d71e"
  },
  {
   "cell_type": "code",
   "outputs": [],
   "source": [
    "Math(statevector_expr(circuit, register_sizes=(1, 1, 1)))"
   ],
   "metadata": {
    "collapsed": false
   },
   "id": "bb886e359fc82347"
  },
  {
   "cell_type": "markdown",
   "source": [
    "## Transpilation"
   ],
   "metadata": {
    "collapsed": false
   },
   "id": "d13cb952903495ea"
  },
  {
   "cell_type": "markdown",
   "source": [
    "Take `ibm_torino` as the backend"
   ],
   "metadata": {
    "collapsed": false
   },
   "id": "774a98fb84cbaf1a"
  },
  {
   "cell_type": "code",
   "outputs": [],
   "source": [
    "runtime_config_path = '/content/gdrive/MyDrive/qiskit-ibm.json'\n",
    "service = QiskitRuntimeService(filename=runtime_config_path)\n",
    "backend = service.backend('ibm_torino')"
   ],
   "metadata": {
    "collapsed": false
   },
   "id": "9e1fae00dd1ead42"
  },
  {
   "cell_type": "code",
   "outputs": [],
   "source": [
    "# Circuit with only CNOT between logical bits 0 and 1\n",
    "circuit = QuantumCircuit(2)\n",
    "circuit.cx(0, 1)\n",
    "\n",
    "# Assign logical bits to distant physical qubits\n",
    "circuit = transpile(circuit, backend=backend, initial_layout=[0, 4], basis_gates=['x', 'sx', 'rz', 'cz'])\n",
    "circuit.draw('mpl', idle_wires=False)"
   ],
   "metadata": {
    "collapsed": false
   },
   "id": "f3e6e5cd509bdda1"
  },
  {
   "cell_type": "code",
   "outputs": [],
   "source": [
    "# Circuit with a single Toffoli gate\n",
    "circuit = QuantumCircuit(3)\n",
    "circuit.ccx(0, 1, 2)\n",
    "\n",
    "circuit.draw('mpl')"
   ],
   "metadata": {
    "collapsed": false
   },
   "id": "36e5ef16a96e130"
  },
  {
   "cell_type": "code",
   "outputs": [],
   "source": [
    "# Actual circuit to sent to quantum computer\n",
    "circuit = transpile(circuit, backend=backend)\n",
    "circuit.draw('mpl', idle_wires=False)"
   ],
   "metadata": {
    "collapsed": false
   },
   "id": "fb34b2aff78a4c12"
  },
  {
   "cell_type": "markdown",
   "id": "46657ce2-5833-4cba-8b12-fc708564c341",
   "metadata": {},
   "source": [
    "## Quantum Fourier Transform\n",
    "\n",
    "The Quantum Fourier Transform (QFT) acting on $\\ket{j}$ transforms the state like this:\n",
    "\n",
    "$$\n",
    "U_{\\mathrm{QFT}} \\ket{j} = \\frac{1}{\\sqrt{2^n}}\\sum_{k=0}^{2^n-1} e^{2\\pi i jk/2^n} \\ket{k}\n",
    "$$\n",
    "\n",
    "The QFT can be implemented in a quantum circuit. Since it's a linear operation, the QFT on the state $\\ket{\\psi} = \\sum_{j=0}^{2^n-1} c_j \\ket{j}$ works as follows:\n",
    "\n",
    "$$\n",
    "\\begin{split}\n",
    "U_{\\mathrm{QFT}} \\ket{\\psi} & = \\frac{1}{\\sqrt{2^n}} \\sum_{j=0}^{2^n-1} c_j \\sum_{k=0}^{2^n-1} e^{2\\pi i jk/2^n} \\ket{k} \\\\\n",
    "& = \\frac{1}{\\sqrt{2^n}} \\sum_{k=0}^{2^n-1} \\tilde{c}_k \\ket{k} \\quad \\left( \\tilde{c}_k = \\sum_{j=0}^{2^n-1} c_j e^{2\\pi i jk/2^n} \\right)\n",
    "\\end{split}\n",
    "$$\n",
    "\n",
    "This is equivalent to discrete Fourier Transform on the amplitudes $\\{c_j\\}_j$.\n",
    "\n",
    "**Example: QFT circuit with $n=6$**"
   ]
  },
  {
   "cell_type": "code",
   "execution_count": null,
   "id": "9312b056",
   "metadata": {
    "collapsed": false
   },
   "outputs": [],
   "source": [
    "num_qubits = 6\n",
    "\n",
    "circuit = QuantumCircuit(num_qubits)\n",
    "\n",
    "# Consider the case of |23> as an input state\n",
    "j = 23\n",
    "\n",
    "## Act X on bits with 1 in binary representation of j --> Create the state |j>\n",
    "\n",
    "for i in range(num_qubits):\n",
    "    # j >> i: Shift bit by i to the right for the integer j\n",
    "    # For example, when shifting bit by i=2 to the right for j j=13=001101, we get 000011 (the rightmost 2 bits of 01 are dropped)\n",
    "    # a & 1: Bit-wise AND of the interger a and 1 to check whether the rightmost bit is 1 or not\n",
    "    if ((j >> i) & 1) == 1:\n",
    "        circuit.x(i)\n",
    "\n",
    "circuit.barrier()\n",
    "\n",
    "## Start of QFT part\n",
    "\n",
    "# Loop over target qubits from n-1 to 0\n",
    "for itarg in range(num_qubits - 1, -1, -1):\n",
    "    # Apply Hadamard gate to each target qubit\n",
    "    circuit.h(itarg)\n",
    "    # Loop over control qubits from target - 1 to 0\n",
    "    for ictrl in range(itarg - 1, -1, -1):\n",
    "        # Apply controlled-P gate with the angle depending on the indices of target and control qubits\n",
    "        power = ictrl - itarg - 1 + num_qubits\n",
    "        circuit.cp((2 ** power) * 2. * np.pi / (2 ** num_qubits), ictrl, itarg)\n",
    "\n",
    "    # Add barrier for visibility\n",
    "    circuit.barrier()\n",
    "\n",
    "# Flip the order of qubits at the end\n",
    "for i in range(num_qubits // 2):\n",
    "    circuit.swap(i, num_qubits - 1 - i)\n",
    "\n",
    "## End of QFT part\n",
    "\n",
    "circuit.draw('mpl')"
   ]
  },
  {
   "cell_type": "markdown",
   "id": "77975841",
   "metadata": {
    "collapsed": false
   },
   "source": [
    "Display state vectors"
   ]
  },
  {
   "cell_type": "code",
   "execution_count": null,
   "id": "fee9e0f4",
   "metadata": {
    "collapsed": false
   },
   "outputs": [],
   "source": [
    "sqrt_2_to_n = 2 ** (num_qubits // 2)\n",
    "amp_norm = (1. / sqrt_2_to_n, r'\\frac{1}{%d}' % sqrt_2_to_n)\n",
    "phase_norm = (2 * np.pi / (2 ** num_qubits), r'\\frac{2 \\pi i}{%d}' % (2 ** num_qubits))\n",
    "expr = statevector_expr(circuit, amp_norm=amp_norm, phase_norm=phase_norm)\n",
    "Math(expr)"
   ]
  },
  {
   "cell_type": "markdown",
   "id": "a3f6bcb2",
   "metadata": {
    "collapsed": false
   },
   "source": [
    "## Addition by Quantum Fourier Transform\n",
    "\n",
    "Here we will look at how we can use quantum algorithm to do arithmetic like addition. As we see below, this can be done by converting numbers in computational basis states to phases or vice-versa by exploiting phase kickback and QFT. The computation goes through the following process:\n",
    "\n",
    "$$\n",
    "\\ket{0}_{\\mathrm{out}}\\ket{b}_{\\mathrm{in2}}\\ket{a}_{\\mathrm{in1}} \\rightarrow \\ket{a+b}_{\\mathrm{out}}\\ket{b}_{\\mathrm{in2}}\\ket{a}_{\\mathrm{in1}}\n",
    "$$\n"
   ]
  },
  {
   "cell_type": "markdown",
   "id": "5dec9967",
   "metadata": {
    "collapsed": false
   },
   "source": [
    "Below is a function to construct the addition circuit."
   ]
  },
  {
   "cell_type": "code",
   "execution_count": null,
   "id": "5b7a46ee",
   "metadata": {
    "collapsed": false
   },
   "outputs": [],
   "source": [
    "def setup_addition(circuit, reg1, reg2, reg3):\n",
    "    # Create equal superposition state in reg3\n",
    "    # If single-qubit operations for QuantumCircuit (such as circuit.h) are applied to a register or a list of qubits,\n",
    "    # the same operation is applied to all the qubits in the register or list.\n",
    "    circuit.h(reg3)\n",
    "\n",
    "    # Unit of phase (Integer multiples of dphi are applied using CP gate\n",
    "    dphi = 2. * np.pi / (2 ** reg3.size)\n",
    "\n",
    "    # Control on the qubits in reg1 and reg2\n",
    "    for reg_ctrl in [reg1, reg2]:\n",
    "        # Loop over control qubits\n",
    "        for ictrl, qctrl in enumerate(reg_ctrl):\n",
    "            # Loop over target qubits in reg3\n",
    "            for itarg, qtarg in enumerate(reg3):\n",
    "                # C[P(phi)], phi = 2pi * 2^{ictrl} * 2^{itarg} / 2^{n3}\n",
    "                circuit.cp(dphi * (2 ** (ictrl + itarg)), qctrl, qtarg)\n",
    "\n",
    "    # Add barrier for visibility\n",
    "    circuit.barrier()\n",
    "\n",
    "    # Inverse QFT\n",
    "    for j in range(reg3.size // 2):\n",
    "        circuit.swap(reg3[j], reg3[-1 - j])\n",
    "\n",
    "    for itarg in range(reg3.size):\n",
    "        for ictrl in range(itarg):\n",
    "            power = ictrl - itarg - 1 + reg3.size\n",
    "            circuit.cp(-dphi * (2 ** power), reg3[ictrl], reg3[itarg])\n",
    "\n",
    "        circuit.h(reg3[itarg])\n",
    "\n",
    "print('Defined function setup_addition')"
   ]
  },
  {
   "cell_type": "markdown",
   "id": "9116f073",
   "metadata": {
    "collapsed": false
   },
   "source": [
    "As an example, let us calculate 9 + 13."
   ]
  },
  {
   "cell_type": "code",
   "execution_count": null,
   "id": "b7dc210e",
   "metadata": {
    "collapsed": false
   },
   "outputs": [],
   "source": [
    "a = 9\n",
    "b = 13\n",
    "\n",
    "# Calcualte the smallest number of bits to express an input value in binary format\n",
    "n1 = np.ceil(np.log2(a + 1)).astype(int)\n",
    "n2 = np.ceil(np.log2(b + 1)).astype(int)\n",
    "n3 = np.ceil(np.log2(a + b + 1)).astype(int)\n",
    "\n",
    "print(f'n1={n1}, n2={n2}, n3={n3}')\n",
    "\n",
    "reg1 = QuantumRegister(n1, 'r1')\n",
    "reg2 = QuantumRegister(n2, 'r2')\n",
    "reg3 = QuantumRegister(n3, 'r3')\n",
    "\n",
    "# QuantumCircuit can be built by passing quantum registers as well as qubits\n",
    "circuit = QuantumCircuit(reg1, reg2, reg3)\n",
    "\n",
    "# Create |a> in reg1\n",
    "a_bits = np.unpackbits(np.asarray(a, dtype=np.uint8), bitorder='little')\n",
    "for idx in np.nonzero(a_bits)[0]:\n",
    "    circuit.x(reg1[idx])\n",
    "\n",
    "# Create |b> in reg2\n",
    "b_bits = np.unpackbits(np.asarray(b, dtype=np.uint8), bitorder='little')\n",
    "for idx in np.nonzero(b_bits)[0]:\n",
    "    circuit.x(reg2[idx])\n",
    "\n",
    "# Call addition circuit\n",
    "setup_addition(circuit, reg1, reg2, reg3)\n",
    "\n",
    "# Check the circuit\n",
    "circuit.draw('mpl')"
   ]
  },
  {
   "cell_type": "markdown",
   "id": "617a5cd2",
   "metadata": {
    "collapsed": false
   },
   "source": [
    "Let us check the final state."
   ]
  },
  {
   "cell_type": "code",
   "execution_count": null,
   "id": "16ea33cb",
   "metadata": {
    "collapsed": false
   },
   "outputs": [],
   "source": [
    "expr = statevector_expr(circuit, register_sizes=(n1, n2, n3))\n",
    "Math(expr)"
   ]
  },
  {
   "cell_type": "markdown",
   "id": "6b68d81b",
   "metadata": {
    "collapsed": false
   },
   "source": [
    "## Addition by QFT in parallel\n",
    "\n",
    "This circuit will work obviously on superposition states, allowing to calculate the addition in parallel:\n",
    "\n",
    "$$\n",
    "\\frac{1}{\\sqrt{2^{n_1 + n_2}}} \\sum_{j=0}^{2^{n_1}-1} \\sum_{k=0}^{2^{n_2}-1} \\ket{0}\\ket{k}\\ket{j} \\rightarrow \\frac{1}{\\sqrt{2^{n_1 + n_2}}} \\sum_{j=0}^{2^{n_1}-1} \\sum_{k=0}^{2^{n_2}-1} \\ket{j+k}\\ket{k}\\ket{j}\n",
    "$$"
   ]
  },
  {
   "cell_type": "code",
   "execution_count": null,
   "id": "a4f6aa32",
   "metadata": {
    "collapsed": false
   },
   "outputs": [],
   "source": [
    "n1 = 4\n",
    "n2 = 4\n",
    "n3 = np.ceil(np.log2((2 ** n1) + (2 ** n2) - 1)).astype(int)\n",
    "\n",
    "reg1 = QuantumRegister(n1, 'r1')\n",
    "reg2 = QuantumRegister(n2, 'r2')\n",
    "reg3 = QuantumRegister(n3, 'r3')\n",
    "\n",
    "circuit = QuantumCircuit(reg1, reg2, reg3)\n",
    "\n",
    "# Create equal superposition states in reg1 and reg2\n",
    "circuit.h(reg1)\n",
    "circuit.h(reg2)\n",
    "\n",
    "setup_addition(circuit, reg1, reg2, reg3)\n",
    "\n",
    "expr = statevector_expr(circuit, register_sizes=(n1, n2, n3), amp_norm=(1. / np.sqrt(2 ** (n1 + n2)), r'\\frac{1}{\\sqrt{2^{n_1 + n_2}}}'))\n",
    "Math(expr)"
   ]
  },
  {
   "cell_type": "markdown",
   "id": "43543696",
   "metadata": {
    "collapsed": false
   },
   "source": [
    "### Execute with simulator"
   ]
  },
  {
   "cell_type": "code",
   "execution_count": null,
   "id": "09f5a876",
   "metadata": {
    "collapsed": false
   },
   "outputs": [],
   "source": [
    "simulator = AerSimulator()\n",
    "\n",
    "# Add measurement to the circuit and transpile\n",
    "circuit.measure_all()\n",
    "circuit = transpile(circuit, backend=simulator)\n",
    "\n",
    "job = simulator.run(circuit, shots=20)\n",
    "counts = job.result().get_counts()\n",
    "\n",
    "heights = []\n",
    "labels = []\n",
    "\n",
    "for key, value in counts.items():\n",
    "    heights.append(value)\n",
    "\n",
    "    # Since the key in counts is a big binary number, it is split into output, input 2 and input 1\n",
    "    # If the inputs are 4 + 4 bits,\n",
    "    #  00110 0101 0001 -> 6 = 5 + 1\n",
    "    #  n3    n2   n1\n",
    "    x1 = int(key[-n1:], 2) # last n1 digits\n",
    "    x2 = int(key[-n1 - n2:-n1], 2) # next-to-last n2 digits\n",
    "    x3 = int(key[:-n1 - n2], 2) # first n3 digits\n",
    "    labels.append(f'{x1} + {x2} = {x3}')\n",
    "\n",
    "x = np.linspace(0., len(labels), len(labels), endpoint=False)\n",
    "\n",
    "# Make the plot\n",
    "plt.bar(x, heights, width=0.5)\n",
    "plt.xticks(ticks=(x - 0.2), labels=labels, rotation=70)\n",
    "plt.tick_params('x', length=0.)"
   ]
  },
  {
   "cell_type": "markdown",
   "id": "e9e58062",
   "metadata": {
    "collapsed": false
   },
   "source": [
    "## Quantum Phase Estimation\n",
    "\n",
    "### Simple QPE example\n",
    "\n",
    "Here we consider a single-qubit $S$ gate ($\\sqrt{Z}$ gate) as a unitary $U$. For this $U$, the eigenvector $|\\psi\\rangle$ that satisfies $U|\\psi\\rangle=e^{2\\pi i\\theta}|\\psi\\rangle$ needs to be prepared. Since $S|1\\rangle=e^{i\\pi/2}|1\\rangle$ with $|1\\rangle=\\begin{pmatrix}0\\\\1\\end{pmatrix}$, $|1\\rangle$ and $e^{i\\pi/2}$ are the eigenvector and eigenvalue of the $S$ gate, respectively. In the case of $S$ gate, the QPE will allow us to obtain $\\theta=1/4$ as phase $\\theta$ of the eigenvalue $e^{2\\pi i\\theta}$.\n"
   ]
  },
  {
   "cell_type": "code",
   "execution_count": null,
   "id": "fb7cafa9",
   "metadata": {
    "collapsed": false
   },
   "outputs": [],
   "source": [
    "n_meas = 3\n",
    "\n",
    "# Register for phase measurement\n",
    "qreg_meas = QuantumRegister(n_meas, name='meas')\n",
    "# Register to store eigenvector\n",
    "qreg_aux = QuantumRegister(1, name='aux')\n",
    "# Classical register for output\n",
    "creg_meas = ClassicalRegister(n_meas, name='out')\n",
    "\n",
    "# Build a circuit\n",
    "qc = QuantumCircuit(qreg_meas, qreg_aux, creg_meas)\n",
    "\n",
    "# Create equal superposition state in meas register and eigenvector |1> in aux register\n",
    "qc.h(qreg_meas)\n",
    "qc.x(qreg_aux)\n",
    "\n",
    "# What we want to get by QPE is angle/(2π)\n",
    "angle = np.pi / 2\n",
    "\n",
    "# Since S = P(π/2), we use CP(xπ/2) for (Controlled-S)^x\n",
    "for x, ctrl in enumerate(qreg_meas):\n",
    "    qc.cp(angle * (2 ** x), ctrl, qreg_aux[0])"
   ]
  },
  {
   "cell_type": "code",
   "execution_count": null,
   "id": "92c89904",
   "metadata": {
    "collapsed": false
   },
   "outputs": [],
   "source": [
    "def qft_dagger(qreg):\n",
    "    \"\"\"Inverse QFT circuit\"\"\"\n",
    "    qc = QuantumCircuit(qreg)\n",
    "\n",
    "    ##################\n",
    "    ### EDIT BELOW ###\n",
    "    ##################\n",
    "\n",
    "    #qc?\n",
    "\n",
    "    ##################\n",
    "    ### EDIT ABOVE ###\n",
    "    ##################\n",
    "\n",
    "    qc.name = \"QFT^dagger\"\n",
    "    return qc\n",
    "\n",
    "qc.barrier()\n",
    "qc.append(qft_dagger(qreg_meas), qargs=qreg_meas)\n",
    "qc.barrier()\n",
    "qc.measure(qreg_meas, creg_meas)\n",
    "qc.draw('mpl')"
   ]
  },
  {
   "cell_type": "markdown",
   "id": "4c1efd50",
   "metadata": {
    "collapsed": false
   },
   "source": [
    "### Run on simulator\n",
    "\n",
    "Let us execute on simulator and make a plot of probability distribution. Here we use the Sampler primitive to execute and measure the circuit. The Sampler primitive will allow you to calculate probabilities of bitstrings as measured from the quantum circuit."
   ]
  },
  {
   "cell_type": "code",
   "execution_count": null,
   "id": "c1a80fd4",
   "metadata": {
    "collapsed": false
   },
   "outputs": [],
   "source": [
    "# Now run the job and examine the results\n",
    "circuit = transpile(qc, backend=simulator)\n",
    "result = simulator.run(circuit, shots=10000).result()\n",
    "\n",
    "#print(f\"Job Result:\\n>>> {result}\")\n",
    "#print(f\"  > Quasi-probability distribution (integer): {result.quasi_dists[0]}\")\n",
    "#print(f\"  > Quasi-probability distribution (bits): {result.quasi_dists[0].binary_probabilities(2)}\")\n",
    "#print(f\"  > Metadata: {result.metadata[0]}\")\n",
    "\n",
    "from qiskit.visualization import plot_distribution\n",
    "plt.style.use('dark_background')\n",
    "plot_distribution(result.get_counts())"
   ]
  },
  {
   "cell_type": "markdown",
   "id": "eed9b1d8",
   "metadata": {
    "collapsed": false
   },
   "source": [
    "We can explore using this simple circuit, for example,\n",
    "- We used $S$ gate which is $R_Z(\\pi/2)$ gate up to global phase. What happens if we use $R_Z(\\phi)$ gate with the angle $\\phi$ changed between $0<\\phi<\\pi/2$?\n",
    "- The precision of estimated phase will get worse depending on the choice of $\\phi$. How can we improve it?\n",
    "- We used $\\ket{1}$ in the aux register as it's an eigenstate of $S$ gate. What happens if a quantum state other than $\\ket{1}$ is used?"
   ]
  },
  {
   "cell_type": "markdown",
   "id": "4268221f",
   "metadata": {
    "collapsed": false
   },
   "source": [
    "### Run on quantum computer\n",
    "\n",
    "Finally let us try to run this on quantum hardware. The `least_busy` function allows us to choose the least busy IBM machine.\n"
   ]
  },
  {
   "cell_type": "code",
   "execution_count": null,
   "id": "938ae833",
   "metadata": {
    "collapsed": false
   },
   "outputs": [],
   "source": [
    "# Use real machine\n",
    "backend = service.least_busy(simulator=False, operational=True)\n",
    "print(f'Jobs will run on {backend.name}')\n",
    "\n",
    "circuit = transpile(qc, backend=backend)"
   ]
  },
  {
   "cell_type": "markdown",
   "id": "684dbc1d",
   "metadata": {
    "collapsed": false
   },
   "source": [
    "In the backend processing, the QiskitRuntimeService is used together with a Runtime Session for efficient computation on the cloud system. Except for quick sanity checks, this is a recommended way to access IBM quantum machines on the cloud."
   ]
  },
  {
   "cell_type": "code",
   "execution_count": null,
   "id": "2a6a344a",
   "metadata": {
    "collapsed": false
   },
   "outputs": [],
   "source": [
    "from qiskit_ibm_runtime import Sampler, Session\n",
    "\n",
    "# create a Runtime session for efficient execution (optional)\n",
    "with Session(backend=backend) as session:\n",
    "  sampler = Sampler(mode=session)\n",
    "  job = sampler.run([circuit])\n",
    "  #print(f\">>> Job ID: {job.job_id()}\")\n",
    "  #print(f\">>> Session ID: {job.session_id}\")\n",
    "  #print(f\">>> Job Status: {job.status()}\")"
   ]
  },
  {
   "cell_type": "code",
   "execution_count": null,
   "id": "eac62c5d",
   "metadata": {
    "collapsed": false
   },
   "outputs": [],
   "source": [
    "# Display job ID and its status\n",
    "print(f\"Job ID: {job.job_id()}, Status: {job.status()}\")"
   ]
  },
  {
   "cell_type": "code",
   "execution_count": null,
   "id": "dad69c16",
   "metadata": {
    "collapsed": false
   },
   "outputs": [],
   "source": [
    "result = job.result()\n",
    "plot_distribution(result.get_counts())"
   ]
  },
  {
   "cell_type": "markdown",
   "id": "dbdcd11b",
   "metadata": {
    "collapsed": false
   },
   "source": [
    "A circuit optimization and error mitigation are important for executing quantum circuit on the present quantum computer. The circuit optimization tries to optimize a transpiled quantum circuit for specific backend and qubit connections. The error mitigation aims to mitigate effects from gate and measurement errors by post-processing the outcomes of the circuit. The measurement error mitigation (so called M3) is included by default in Runtime Sampler session. Below we attempt to use a built-in circuit optimization (with the highest level 3) in Qiskit."
   ]
  },
  {
   "cell_type": "code",
   "execution_count": null,
   "id": "65ead431",
   "metadata": {
    "collapsed": false
   },
   "outputs": [],
   "source": [
    "from qiskit.transpiler.preset_passmanagers import generate_preset_pass_manager\n",
    "\n",
    "pm = generate_preset_pass_manager(backend=backend, optimization_level=1)\n",
    "circuit = pm.run(qc)\n",
    "with Session(backend=backend) as session:\n",
    "    sampler = Sampler(mode=session)\n",
    "    job = sampler.run([circuit])\n",
    "    #print(f\">>> Job ID: {job.job_id()}\")\n",
    "    #print(f\">>> Session ID: {job.session_id}\")\n",
    "    #print(f\">>> Job Status: {job.status()}\")"
   ]
  },
  {
   "cell_type": "code",
   "execution_count": null,
   "id": "72270c6c",
   "metadata": {
    "collapsed": false
   },
   "outputs": [],
   "source": [
    "# Display job ID and its status\n",
    "print(f\"Job ID: {job.job_id()}, Status: {job.status()}\")"
   ]
  },
  {
   "cell_type": "code",
   "execution_count": null,
   "id": "2187b77d",
   "metadata": {
    "collapsed": false
   },
   "outputs": [],
   "source": [
    "result = job.result()\n",
    "plot_distribution(result.get_counts())"
   ]
  },
  {
   "cell_type": "markdown",
   "source": [
    "## Shor's Algorithm\n",
    "\n",
    "First, we will look at the order finding algorithm. Below is just an illustration of finding the smallest possible integer $r$ with $N=35$ and $a=3$.  "
   ],
   "metadata": {
    "collapsed": false
   },
   "id": "2bcd254c983fa2d3"
  },
  {
   "cell_type": "code",
   "outputs": [],
   "source": [
    "N = 35\n",
    "a = 3\n",
    "\n",
    "# Get data from N and a\n",
    "xvals = np.arange(35)\n",
    "yvals = [np.mod(a**x, N) for x in xvals]\n",
    "\n",
    "# Make the plot\n",
    "fig, ax = plt.subplots()\n",
    "ax.plot(xvals, yvals, linewidth=1, linestyle='dotted', marker='x')\n",
    "ax.set(xlabel='$x$', ylabel='$%i^x$ mod $%i$' % (a, N),\n",
    "       title=\"Example of Periodic Function in Shor's Algorithm\")\n",
    "try: # Draw r on the plot\n",
    "    r = yvals[1:].index(1) + 1\n",
    "    plt.annotate(text='', xy=(0,1), xytext=(r,1), arrowprops=dict(arrowstyle='<->'))\n",
    "    plt.annotate(text='$r=%i$' % r, xy=(r/3,1.5))\n",
    "except:\n",
    "    print('Could not find period, check a < N and have no common factors.')"
   ],
   "metadata": {
    "collapsed": false
   },
   "id": "92e3f4772fddcc"
  },
  {
   "cell_type": "markdown",
   "source": [
    "Define Oracle for factorizing $N=15$."
   ],
   "metadata": {
    "collapsed": false
   },
   "id": "a613ac098368302d"
  },
  {
   "cell_type": "code",
   "outputs": [],
   "source": [
    "def c_amod15(a, power):\n",
    "    \"\"\"Controlled gate with mod 15\"\"\"\n",
    "    if a not in [2,4,7,8,11,13]:\n",
    "        raise ValueError(\"'a' must be 2,4,7,8,11 or 13\")\n",
    "\n",
    "    U = QuantumCircuit(4)\n",
    "\n",
    "    ##################\n",
    "    ### EDIT BELOW ###\n",
    "    ##################\n",
    "\n",
    "    #U.?\n",
    "\n",
    "    ##################\n",
    "    ### EDIT ABOVE ###\n",
    "    ##################\n",
    "\n",
    "    # Repeat U by 2^l times\n",
    "    U_power = U.repeat(2 ** l)\n",
    "\n",
    "    # Convert U_power to gate\n",
    "    gate = U_power.to_gate()\n",
    "    gate.name = f\"{a}^{2 ** l} mod 15\"\n",
    "\n",
    "    # Turn the gate into controlled gate\n",
    "    c_gate = gate.control()\n",
    "    return c_gate"
   ],
   "metadata": {
    "collapsed": false
   },
   "id": "54ca56a8f02cdb27"
  },
  {
   "cell_type": "markdown",
   "source": [
    "Construct the entire circuit to perform the order finding. We will use 8 qubits for the measurement."
   ],
   "metadata": {
    "collapsed": false
   },
   "id": "265263fceb57ef5b"
  },
  {
   "cell_type": "code",
   "outputs": [],
   "source": [
    "# Some co-prime number to 15\n",
    "a = 7\n",
    "\n",
    "# Number of qubits used for the measurement\n",
    "n_meas = 8"
   ],
   "metadata": {
    "collapsed": false
   },
   "id": "892632de5b46d0e2"
  },
  {
   "cell_type": "code",
   "outputs": [],
   "source": [
    "# Measurement register\n",
    "qreg_meas = QuantumRegister(n_meas, name='meas')\n",
    "# Working register which U is applied to\n",
    "qreg_aux = QuantumRegister(4, name='aux')\n",
    "# Classical register to store the measured results\n",
    "creg_meas = ClassicalRegister(n_meas, name='out')\n",
    "\n",
    "qc = QuantumCircuit(qreg_meas, qreg_aux, creg_meas)\n",
    "\n",
    "# Create equal superposition state in measurement register\n",
    "qc.h(qreg_meas)\n",
    "# Initialize working register with |1> state\n",
    "qc.x(qreg_aux[0])\n",
    "\n",
    "# Controlled-U gate is applied to working redister\n",
    "for l, ctrl in enumerate(qreg_meas):\n",
    "    qc.append(c_amod15(a, l), qargs=([ctrl] + qreg_aux[:]))\n",
    "\n",
    "# Inverse QFT\n",
    "qc.append(qft_dagger(qreg_meas), qargs=qreg_meas)\n",
    "\n",
    "# Measure\n",
    "qc.measure(qreg_meas, creg_meas)\n",
    "qc.draw('mpl')"
   ],
   "metadata": {
    "collapsed": false
   },
   "id": "59b32f0f13ae6b4"
  },
  {
   "cell_type": "markdown",
   "source": [
    "Execute this on the simulator."
   ],
   "metadata": {
    "collapsed": false
   },
   "id": "7847de76a590223f"
  },
  {
   "cell_type": "code",
   "outputs": [],
   "source": [
    "shots = 10000\n",
    "\n",
    "# Instantiate a new Sampler object\n",
    "from qiskit.primitives import Sampler\n",
    "sampler = Sampler()\n",
    "\n",
    "# Now run the job and examine the results\n",
    "sampler_job = sampler.run(qc)\n",
    "answer = sampler_job.result().quasi_dists[0]\n",
    "\n",
    "plt.style.use('dark_background')\n",
    "plot_distribution(answer)"
   ],
   "metadata": {
    "collapsed": false
   },
   "id": "e6540664a1e874cd"
  },
  {
   "cell_type": "markdown",
   "source": [
    "Analyze the results to find phase, and then extract the s and r."
   ],
   "metadata": {
    "collapsed": false
   },
   "id": "5621dd92612936d"
  },
  {
   "cell_type": "code",
   "outputs": [],
   "source": [
    "rows, measured_phases = [], []\n",
    "for output in answer:\n",
    "    phase = output / (2 ** n_meas)\n",
    "    measured_phases.append(phase)\n",
    "    rows.append(f\"{output:3d}      {output:3d}/{2 ** n_meas} = {phase:.3f}\")\n",
    "\n",
    "# Results\n",
    "print('Register Output    Phase')\n",
    "print('------------------------')\n",
    "\n",
    "for row in rows:\n",
    "    print(row)"
   ],
   "metadata": {
    "collapsed": false
   },
   "id": "82ef27f92bc229a7"
  },
  {
   "cell_type": "code",
   "outputs": [],
   "source": [
    "rows = []\n",
    "for phase in measured_phases:\n",
    "    frac = Fraction(phase).limit_denominator(15)\n",
    "    rows.append(f'{phase:10.3f}      {frac.numerator:2d}/{frac.denominator:2d} {frac.denominator:13d}')\n",
    "\n",
    "# Results\n",
    "print('     Phase   Fraction   Guess for r')\n",
    "print('-------------------------------------')\n",
    "\n",
    "for row in rows:\n",
    "    print(row)"
   ],
   "metadata": {
    "collapsed": false
   },
   "id": "ff43782eccb3f450"
  },
  {
   "cell_type": "markdown",
   "id": "3394259f",
   "metadata": {
    "collapsed": false
   },
   "source": [
    "### Below is the answers to above exercise cells\n",
    "\n",
    "**Exercise 1**"
   ]
  },
  {
   "cell_type": "code",
   "execution_count": null,
   "id": "46e18ec9",
   "metadata": {
    "collapsed": false
   },
   "outputs": [],
   "source": [
    "circuit.h(0)\n",
    "circuit.p(np.pi / 2., 0)"
   ]
  },
  {
   "cell_type": "markdown",
   "id": "5088a257",
   "metadata": {
    "collapsed": false
   },
   "source": [
    "**Exercise 2**"
   ]
  },
  {
   "cell_type": "code",
   "execution_count": null,
   "id": "672bf587",
   "metadata": {
    "collapsed": false
   },
   "outputs": [],
   "source": [
    "circuit.h(0)\n",
    "circuit.p(np.pi / 2., 0)\n",
    "circuit.cx(0, 1)"
   ]
  },
  {
   "cell_type": "markdown",
   "id": "9bb48807",
   "metadata": {
    "collapsed": false
   },
   "source": [
    "**Exercise 3**"
   ]
  },
  {
   "cell_type": "code",
   "execution_count": null,
   "id": "02527950",
   "metadata": {
    "collapsed": false
   },
   "outputs": [],
   "source": [
    "circuit.h(0)\n",
    "circuit.cx(0, 1)\n",
    "circuit.mcx([0, 1], 2)"
   ]
  },
  {
   "cell_type": "markdown",
   "id": "e4a7e81e",
   "metadata": {
    "collapsed": false
   },
   "source": [
    "**Exercise 4**"
   ]
  },
  {
   "cell_type": "code",
   "execution_count": null,
   "id": "8f37f089",
   "metadata": {
    "collapsed": false
   },
   "outputs": [],
   "source": [
    "for i in range(num_qubits):\n",
    "    circuit.h(i)"
   ]
  },
  {
   "cell_type": "markdown",
   "id": "4cb69dab",
   "metadata": {
    "collapsed": false
   },
   "source": [
    "**Exercise 5**"
   ]
  },
  {
   "cell_type": "code",
   "execution_count": null,
   "id": "7066d0e3",
   "metadata": {
    "collapsed": false
   },
   "outputs": [],
   "source": [
    "for i in range(num_qubits):\n",
    "    circuit.h(i)\n",
    "\n",
    "circuit.x(1)\n",
    "circuit.x(3)\n",
    "circuit.mcp(np.pi, [0, 1, 2], 3)\n",
    "circuit.x(1)\n",
    "circuit.x(3)"
   ]
  },
  {
   "cell_type": "markdown",
   "id": "506c376e",
   "metadata": {
    "collapsed": false
   },
   "source": [
    "**Exercise 6**"
   ]
  },
  {
   "cell_type": "code",
   "execution_count": null,
   "id": "75c7130e",
   "metadata": {
    "collapsed": false
   },
   "outputs": [],
   "source": [
    "for m in range(num_qubits):\n",
    "    circuit.h(m)\n",
    "    circuit.p(2. * np.pi * s / (2 ** (num_qubits - m)), m)"
   ]
  },
  {
   "cell_type": "markdown",
   "id": "0851d217",
   "metadata": {
    "collapsed": false
   },
   "source": [
    "**qft_dagger circuit**"
   ]
  },
  {
   "cell_type": "code",
   "execution_count": null,
   "id": "9bdf728c",
   "metadata": {
    "collapsed": false
   },
   "outputs": [],
   "source": [
    "    for j in range(qreg.size // 2):\n",
    "        qc.swap(qreg[j], qreg[-1 - j])\n",
    "\n",
    "    for itarg in range(qreg.size):\n",
    "        for ictrl in range(itarg):\n",
    "            power = ictrl - itarg - 1\n",
    "            qc.cp(-2. * np.pi * (2 ** power), ictrl, itarg)\n",
    "\n",
    "        qc.h(itarg)"
   ]
  }
 ],
 "metadata": {
  "kernelspec": {
   "display_name": "Python 3 (ipykernel)",
   "language": "python",
   "name": "python3"
  },
  "language_info": {
   "codemirror_mode": {
    "name": "ipython",
    "version": 3
   },
   "file_extension": ".py",
   "mimetype": "text/x-python",
   "name": "python",
   "nbconvert_exporter": "python",
   "pygments_lexer": "ipython3",
   "version": "3.10.12"
  }
 },
 "nbformat": 4,
 "nbformat_minor": 5
}

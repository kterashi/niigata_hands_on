{
 "nbformat": 4,
 "nbformat_minor": 0,
 "metadata": {
  "colab": {
   "provenance": [],
   "authorship_tag": "ABX9TyPOjpqNR/dhnEPHqQx+Kzya",
   "include_colab_link": true
  },
  "kernelspec": {
   "name": "python3",
   "display_name": "Python 3"
  },
  "language_info": {
   "name": "python"
  }
 },
 "cells": [
  {
   "cell_type": "markdown",
   "metadata": {
    "id": "view-in-github",
    "colab_type": "text"
   },
   "source": [
    "<a href=\"https://colab.research.google.com/github/kterashi/niigata_lecture_2024/blob/master/assignment_circuit.ipynb\" target=\"_parent\"><img src=\"https://colab.research.google.com/assets/colab-badge.svg\" alt=\"Open In Colab\"/></a>"
   ]
  },
  {
   "cell_type": "markdown",
   "source": [
    "# [Exercise] Implementation of Function, Hadamard Test, Quantum Fourier Transform"
   ],
   "metadata": {
    "id": "-wDjEijm7mbx"
   }
  },
  {
   "cell_type": "code",
   "source": [
    "# First, get all the necessary libraries from the copy and import packages\n",
    "import os\n",
    "import sys\n",
    "import shutil\n",
    "import tarfile\n",
    "from google.colab import drive\n",
    "drive.mount('/content/gdrive')\n",
    "shutil.copy('/content/gdrive/MyDrive/qcintro.tar.gz', '.')\n",
    "with tarfile.open('qcintro.tar.gz', 'r:gz') as tar:\n",
    "    tar.extractall(path='/root/.local')\n",
    "\n",
    "sys.path.append('/root/.local/lib/python3.10/site-packages')"
   ],
   "metadata": {
    "id": "928gcrwyYnke"
   },
   "execution_count": null,
   "outputs": []
  },
  {
   "cell_type": "code",
   "execution_count": null,
   "metadata": {
    "tags": [],
    "id": "a6494e44-e1ca-4af8-8b79-b3750fcee037"
   },
   "outputs": [],
   "source": [
    "# Import everything\n",
    "import numpy as np\n",
    "import matplotlib.pyplot as plt\n",
    "from qiskit import QuantumRegister, ClassicalRegister, QuantumCircuit, transpile\n",
    "from qiskit_aer import AerSimulator\n",
    "from qiskit_aer.primitives import SamplerV2 as AerSampler\n",
    "from qiskit.visualization import plot_histogram"
   ]
  },
  {
   "cell_type": "markdown",
   "source": [
    "## Exercise 1: Adder circuit\n",
    "\n",
    "Create input states to the adder ($a=5$, $b=6$) using $X$ gates, then implement $U$ and $V$. "
   ],
   "metadata": {
    "collapsed": false
   }
  },
  {
   "cell_type": "code",
   "outputs": [],
   "source": [
    "input_digits = 3\n",
    "\n",
    "# The number of bits in the circuit is the input digits x 2 + 2 (auxiliary bits)\n",
    "circuit_width = 2 * input_digits + 2\n",
    "qreg = QuantumRegister(circuit_width, name='q')\n",
    "# Measure only bits where the added result is written\n",
    "creg = ClassicalRegister(input_digits + 1, name='out')\n",
    "circuit = QuantumCircuit(qreg, creg)\n",
    "\n",
    "# Construct circuit tp create input states (a=5, b=6) using X gates\n",
    "##################\n",
    "### EDIT BELOW ###\n",
    "##################\n",
    "\n",
    "# for iq in [?, ?, ?, ..]:\n",
    "#     circuit.x(iq)\n",
    "\n",
    "##################\n",
    "### EDIT ABOVE ###\n",
    "##################\n",
    "\n",
    "circuit.barrier()\n",
    "\n",
    "# Apply U to qlow, qlow+1, qlow+2. Note the loop over the values set by range(0, n, 2).\n",
    "for qlow in range(0, circuit_width - 2, 2):\n",
    "    ##################\n",
    "    ### EDIT BELOW ###\n",
    "    ##################\n",
    "\n",
    "    # Write circuit for U\n",
    "\n",
    "    ##################\n",
    "    ### EDIT ABOVE ###\n",
    "    ##################\n",
    "\n",
    "circuit.cx(circuit_width - 2, circuit_width - 1)\n",
    "\n",
    "# Apply V to qlow, qlow+1, qlow+2. Note the loop over the values set by range(n-1, -1, -2).\n",
    "for qlow in range(circuit_width - 4, -1, -2):\n",
    "    ##################\n",
    "    ### EDIT BELOW ###\n",
    "    ##################\n",
    "\n",
    "    # Write circuit for V\n",
    "\n",
    "    ##################\n",
    "    ### EDIT ABOVE ###\n",
    "    ##################\n",
    "\n",
    "# Measure [1st, 3rd, ...] qubits and write into classical register\n",
    "circuit.measure(range(1, circuit_width, 2), creg)\n",
    "\n",
    "circuit.draw('mpl')"
   ],
   "metadata": {
    "collapsed": false
   }
  },
  {
   "cell_type": "code",
   "outputs": [],
   "source": [
    "# Execute circuit with simulator\n",
    "simulator = AerSimulator()\n",
    "sampler = AerSampler()\n",
    "shots = 100\n",
    "\n",
    "circuit = transpile(circuit, backend=simulator)\n",
    "job_result = sampler.run([circuit], shots=shots).result()\n",
    "counts = job_result[0].data.out.get_counts()\n",
    "\n",
    "plot_histogram(counts)"
   ],
   "metadata": {
    "collapsed": false
   }
  },
  {
   "cell_type": "markdown",
   "source": [
    "## Exercise 2: Idenity state vector using Hadamard test\n",
    "\n",
    "We will examine the state \\ket{\\psi}$ created using the following circuit."
   ],
   "metadata": {
    "collapsed": false
   }
  },
  {
   "cell_type": "code",
   "outputs": [],
   "source": [
    "# Size of the data register\n",
    "data_width = 6\n",
    "\n",
    "# Circuit to create the state |psi>\n",
    "upsi = QuantumCircuit(data_width, name='psi')\n",
    "upsi.x(0)\n",
    "upsi.h(2)\n",
    "upsi.cx(2, 3)\n",
    "for itarg in range(data_width - 1, -1, -1):\n",
    "    upsi.h(itarg)\n",
    "    for ictrl in range(itarg - 1, -1, -1):\n",
    "        power = ictrl - itarg - 1 + data_width\n",
    "        upsi.cp((2 ** power) * 2. * np.pi / (2 ** data_width), ictrl, itarg)\n",
    "\n",
    "for iq in range(data_width // 2):\n",
    "    upsi.swap(iq, data_width - 1 - iq)"
   ],
   "metadata": {
    "collapsed": false
   }
  },
  {
   "cell_type": "markdown",
   "source": [
    "In Qiskit, we can convert a circuit of `QuantumCircuit` instance to a gate object with `to_gate()` method. Furthermore, if we apply `control(n)` to that gate, then the `n`-qubit controlled operation to the original circuit becomes possible. "
   ],
   "metadata": {
    "collapsed": false
   }
  },
  {
   "cell_type": "code",
   "outputs": [],
   "source": [
    "upsi_gate = upsi.to_gate()\n",
    "cupsi_gate = upsi_gate.control(1)"
   ],
   "metadata": {
    "collapsed": false
   }
  },
  {
   "cell_type": "markdown",
   "source": [
    "The $U^{-1}_k$ and its conversion to controlled gate are defined as a function with $k$.  "
   ],
   "metadata": {
    "collapsed": false
   }
  },
  {
   "cell_type": "code",
   "outputs": [],
   "source": [
    "def make_cukinv_gate(k):\n",
    "    uk = QuantumCircuit(data_width, name=f'u_{k}')\n",
    "\n",
    "    # Here unpackbits is used to get a binary representation of k\n",
    "    # unpackbits takes an array of uint8, so the k is first converted to that\n",
    "    k_bits = np.unpackbits(np.asarray(k, dtype=np.uint8), bitorder='little')\n",
    "    # Get index of k_bits array where the corresponding bit is non-zero, and apply the X gate\n",
    "    for idx in np.nonzero(k_bits)[0]:\n",
    "        uk.x(idx)\n",
    "\n",
    "    # Create the inverse circuit (though this is identical as the inverse operation of X is X itself)\n",
    "    ukinv = uk.inverse()\n",
    "\n",
    "    ukinv_gate = ukinv.to_gate()\n",
    "    cukinv_gate = ukinv_gate.control(1)\n",
    "\n",
    "    return cukinv_gate"
   ],
   "metadata": {
    "collapsed": false
   }
  },
  {
   "cell_type": "markdown",
   "source": [
    "A gate object can be added to `QuantumCircuit` object using `append()` function. When adding a controlled gate, the control bits correspond to the first n-bits of the target circuit. The `qargs` argument of `append()` can be used for that.\n",
    "\n",
    "Execute the two kinds of Hadamard tests over $k$ from 0 though $2^n-1$, and determine the decomposition of $\\ket{\\psi}$ in the computational basis. "
   ],
   "metadata": {
    "collapsed": false
   }
  },
  {
   "cell_type": "code",
   "outputs": [],
   "source": [
    "reg_data = QuantumRegister(data_width, name='data')\n",
    "reg_test = QuantumRegister(1, name='test')\n",
    "creg_test = ClassicalRegister(1, name='out')\n",
    "\n",
    "# Circuits for real and imaginary parts are put into lists and passed to simulator \n",
    "circuits_re = []\n",
    "circuits_im = []\n",
    "\n",
    "ks = np.arange(2 ** data_width)\n",
    "\n",
    "for k in ks:\n",
    "    circuit_re = QuantumCircuit(reg_data, reg_test, creg_test)\n",
    "    circuit_im = QuantumCircuit(reg_data, reg_test, creg_test)\n",
    "\n",
    "    ##################\n",
    "    ### EDIT BELOW ###\n",
    "    ##################\n",
    "\n",
    "    # Example of adding a controlled gate to circuit\n",
    "    # circuit.append(cupsi_gate, qargs=([reg_test[0]] + reg_data[:]))\n",
    "\n",
    "    ##################\n",
    "    ### EDIT ABOVE ###\n",
    "    ##################\n",
    "\n",
    "    circuit_re.measure(reg_test, creg_test)\n",
    "    circuit_im.measure(reg_test, creg_test)\n",
    "\n",
    "    circuits_re.append(circuit_re)\n",
    "    circuits_im.append(circuit_im)\n",
    "\n",
    "# Execute circuit with simulator\n",
    "simulator = AerSimulator()\n",
    "sampler = AerSampler()\n",
    "shots = 10000\n",
    "\n",
    "circuits_re = transpile(circuits_re, backend=simulator)\n",
    "circuits_im = transpile(circuits_im, backend=simulator)\n",
    "\n",
    "job_result_re = sampler.run(circuits_re, shots=shots).result()\n",
    "job_result_im = sampler.run(circuits_im, shots=shots).result()\n",
    "\n",
    "# Array of state vectors\n",
    "statevector = np.empty(2 ** data_width, dtype=np.complex128)\n",
    "\n",
    "for k in ks:\n",
    "    counts_re = job_result_re[k].data.out.get_counts()\n",
    "    counts_im = job_result_im[k].data.out.get_counts()\n",
    "    statevector[k] = (counts_re.get('0', 0) - counts_re.get('1', 0)) / shots\n",
    "    statevector[k] += 1.j * (counts_im.get('0', 0) - counts_im.get('1', 0)) / shots"
   ],
   "metadata": {
    "collapsed": false
   }
  },
  {
   "cell_type": "code",
   "outputs": [],
   "source": [
    "plt.plot(ks, statevector.real, label='Re($c_k$)')\n",
    "plt.plot(ks, statevector.imag, label='Im($c_k$)')\n",
    "plt.xlabel('k')\n",
    "plt.legend();"
   ],
   "metadata": {
    "collapsed": false
   }
  },
  {
   "cell_type": "markdown",
   "source": [
    "Compare the results and the state vectors obtained from state-vector simulator "
   ],
   "metadata": {
    "collapsed": false
   }
  },
  {
   "cell_type": "code",
   "outputs": [],
   "source": [
    "sv_simulator = AerSimulator(method='statevector')\n",
    "\n",
    "# Copy the original circuit and add save_statevector\n",
    "circuit = upsi.copy()\n",
    "circuit.save_statevector()\n",
    "\n",
    "circuit = transpile(circuit, backend=sv_simulator)\n",
    "statevector_truth = np.asarray(sv_simulator.run(circuit).result().data()['statevector'])\n",
    "\n",
    "plt.plot(ks, statevector_truth.real, label='Re($c_k$) truth')\n",
    "plt.plot(ks, statevector_truth.imag, label='Im($c_k$) truth')\n",
    "plt.scatter(ks, statevector.real, label='Re($c_k$)')\n",
    "plt.scatter(ks, statevector.imag, label='Im($c_k$)')\n",
    "plt.xlabel('k')\n",
    "plt.legend();"
   ],
   "metadata": {
    "collapsed": false
   }
  },
  {
   "cell_type": "markdown",
   "source": [
    "## Exercise 3: Generate probability distribution with the shape of cosine function\n",
    "\n",
    "Create quantum circuit for which the probability of obtaining a bit string $k$ in the measurement is $\\frac{1}{2}[1+\\cos(8\\pi k /2^5)]$."
   ],
   "metadata": {
    "id": "AXZ6tdfD7rcj"
   }
  },
  {
   "cell_type": "code",
   "source": [
    "num_qubits = 5\n",
    "\n",
    "circuit = QuantumCircuit(num_qubits)\n",
    "\n",
    "##################\n",
    "### EDIT BELOW ###\n",
    "##################\n",
    "\n",
    "# Set up a superposition of computational basis states\n",
    "\n",
    "##################\n",
    "### EDIT ABOVE ###\n",
    "##################\n",
    "\n",
    "# QFT circuit in the lecture\n",
    "\n",
    "# Loop over target qubits from num_qubits - 1 to 0\n",
    "for itarg in range(num_qubits - 1, -1, -1):\n",
    "    # Apply Hadamard gate to each target qubit\n",
    "    circuit.h(itarg)\n",
    "    # Loop over control qubits from target - 1 to 0\n",
    "    for ictrl in range(itarg - 1, -1, -1):\n",
    "        # Apply controlled-P gate with the angle depending on the indices of target and control qubits\n",
    "        power = ictrl - itarg - 1 + num_qubits\n",
    "        circuit.cp((2 ** power) * 2. * np.pi / (2 ** num_qubits), ictrl, itarg)\n",
    "\n",
    "    # Add barrier for visibility\n",
    "    circuit.barrier()\n",
    "\n",
    "# Flip the order of qubits at the end\n",
    "for i in range(num_qubits // 2):\n",
    "    circuit.swap(i, num_qubits - 1 - i)\n",
    "\n",
    "circuit.measure_all()\n",
    "\n",
    "# Use Sampler on the simulator\n",
    "simulator = AerSimulator()\n",
    "sampler = AerSampler()\n",
    "shots = 100000\n",
    "\n",
    "circuit = transpile(circuit, backend=simulator)\n",
    "sim_job = sampler.run([circuit], shots=shots)\n",
    "counts_dict = sim_job.result()[0].data.meas.get_counts()\n",
    "\n",
    "# Convert measurement results to array for plot\n",
    "counts = np.zeros(2 ** num_qubits)\n",
    "for key, value in counts_dict.items():\n",
    "    counts[int(key, 2)] = value\n",
    "counts /= shots\n",
    "\n",
    "# Make plots of the results and predictions\n",
    "plt.scatter(np.arange(2 ** num_qubits), counts, label='observed')\n",
    "x = np.linspace(0., 2 ** num_qubits, 400)\n",
    "y = (1. + np.cos(8. * np.pi * x / 2 ** num_qubits)) / 2 ** num_qubits\n",
    "plt.plot(x, y, label='target')\n",
    "plt.legend();"
   ],
   "metadata": {
    "id": "GG80puvq7r5X"
   },
   "execution_count": null,
   "outputs": []
  },
  {
   "cell_type": "markdown",
   "source": [
    "## レポートとして提出するもの\n",
    "\n",
    "- Exercise 1、2, 3の完成した回路のコード（EDIT BELOWからEDIT ABOVEの部分を埋める）\n",
    "- シミュレーション結果で得られるプロット"
   ],
   "metadata": {
    "collapsed": false
   }
  }
 ]
}

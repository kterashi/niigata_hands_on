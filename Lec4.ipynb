{
 "cells": [
  {
   "cell_type": "markdown",
   "id": "adf44cab-0da0-4394-a689-b3a2940fe3c9",
   "metadata": {},
   "source": [
    "<a href=\"https://colab.research.google.com/github/kterashi/niigata_lecture_2024/blob/master/Lec4.ipynb\" target=\"_parent\"><img src=\"https://colab.research.google.com/assets/colab-badge.svg\" alt=\"Open In Colab\"/></a>"
   ]
  },
  {
   "cell_type": "markdown",
   "source": [
    "# Simulation of Quantum Dynamics\n",
    "\n",
    "$\\newcommand{\\bra}[1]{|#1\\rangle}$\n",
    "$\\newcommand{\\ket}[1]{|#1\\rangle}$\n",
    "$\\newcommand{\\braket}[2]{\\langle #1 | #2 \\rangle}$\n",
    "$\\newcommand{\\upket}{\\ket{\\uparrow}}$\n",
    "$\\newcommand{\\downket}{\\ket{\\downarrow}}$\n",
    "$\\newcommand{\\rightket}{\\ket{\\rightarrow}}$\n",
    "$\\newcommand{\\plusket}{\\ket{+}}$\n",
    "$\\newcommand{\\minusket}{\\ket{-}}$"
   ],
   "metadata": {
    "collapsed": false
   },
   "id": "fed00772c37f955b"
  },
  {
   "cell_type": "code",
   "outputs": [],
   "source": [
    "# First, get all the necessary libraries from the copy and import packages\n",
    "import os\n",
    "import sys\n",
    "import shutil\n",
    "import tarfile\n",
    "from google.colab import drive\n",
    "drive.mount('/content/gdrive')\n",
    "shutil.copy('/content/gdrive/MyDrive/qcintro.tar.gz', '.')\n",
    "with tarfile.open('qcintro.tar.gz', 'r:gz') as tar:\n",
    "    tar.extractall(path='/root/.local')\n",
    "\n",
    "sys.path.append('/root/.local/lib/python3.10/site-packages')"
   ],
   "metadata": {
    "collapsed": false
   },
   "id": "cad92d3fd6ae188e"
  },
  {
   "cell_type": "code",
   "execution_count": null,
   "id": "b09f69a1-6899-45c9-b43f-50aefd965573",
   "metadata": {},
   "outputs": [],
   "source": [
    "from typing import Optional\n",
    "import numpy as np\n",
    "import matplotlib.pyplot as plt\n",
    "from qiskit import QuantumCircuit, transpile\n",
    "from qiskit.primitives import SamplerResult\n",
    "from qiskit.quantum_info import SparsePauliOp\n",
    "from qiskit.result import Result\n",
    "from qiskit_aer import AerSimulator\n",
    "from qiskit_aer.primitives import Estimator as AerEstimator, Sampler as AerSampler\n",
    "from qiskit_ibm_runtime import Sampler as RuntimeSampler, Options, QiskitRuntimeService, Session\n",
    "from qiskit.transpiler.preset_passmanagers import generate_preset_pass_manager\n",
    "\n",
    "runtime_config_path = '/content/gdrive/MyDrive/qiskit-ibm.json'"
   ]
  },
  {
   "cell_type": "markdown",
   "id": "4b3cdffa-fd17-483a-bf63-40734f3a2c77",
   "metadata": {},
   "source": [
    "## Mapping a single spin-1/2 system onto a qubit\n",
    "\n",
    "Single spin-1/2 system can be trivially expressed with a qubit. In the next cells we perform a (first-order) Suzuki-Trotter simulation of the evolution under a time-dependent Hamiltonian\n",
    "\n",
    "$$\n",
    "H(t) = \\omega \\ket{\\uparrow}\\bra{\\uparrow} + \\frac{A}{2} \\cos{\\alpha t} \\left(\\ket{\\uparrow}\\bra{\\downarrow} + \\ket{\\downarrow}\\ket{\\uparrow}\\right)\n",
    "= H_Z + H_X(t).\n",
    "$$\n",
    "\n",
    "First we define the functions that return the circuits for single Trotter steps:"
   ]
  },
  {
   "cell_type": "code",
   "execution_count": null,
   "id": "205e72db-13ae-47c4-bb22-021db506df1e",
   "metadata": {},
   "outputs": [],
   "source": [
    "def uz_spin(omega: float, delta_t: float) -> QuantumCircuit:\n",
    "    \"\"\"Short-time evolution by exp(-i H_Z Δt).\"\"\"\n",
    "    circ = QuantumCircuit(1)\n",
    "    # exp(-i ω |↑><↑| Δt) <=> exp(-i/2 ω Δt Z)\n",
    "    circ.rz(omega * delta_t, 0)\n",
    "    return circ\n",
    "\n",
    "def ux_spin(amp: float, alpha_t: float, delta_t: float) -> QuantumCircuit:\n",
    "    \"\"\"Short-time evolution by exp(-i H_X(t) Δt).\"\"\"\n",
    "    circ = QuantumCircuit(1)\n",
    "    # exp(-i A/2 cos(αt) (|↑><↓|+|↓><↑|) Δt) <=> exp(-i/2 A cos(αt) Δt X)\n",
    "    circ.rx(amp * np.cos(alpha_t) * delta_t, 0)\n",
    "    return circ"
   ]
  },
  {
   "cell_type": "markdown",
   "id": "7c621c93-d987-4943-aa86-424c8041c8c3",
   "metadata": {},
   "source": [
    "Then the function to construct the full simulation circuit:"
   ]
  },
  {
   "cell_type": "code",
   "execution_count": null,
   "id": "3a7ac66e-6f15-471f-81fb-ec0084aff257",
   "metadata": {},
   "outputs": [],
   "source": [
    "def driven_spin_simulation_sv(\n",
    "    omega: float,\n",
    "    amp: float,\n",
    "    alpha: float,\n",
    "    sim_time: float,\n",
    "    num_steps: int\n",
    ") -> QuantumCircuit:\n",
    "    \"\"\"Suzuki-Trotter simulation of the evolution by H(t) using statevectors.\"\"\"\n",
    "    delta_t = sim_time / num_steps\n",
    "    # Single qubit <=> single spin 1/2\n",
    "    circ = QuantumCircuit(1)\n",
    "    for istep in range(num_steps):\n",
    "        # Instruction to the simulator to save the statevector snapshot at this point in the circuit\n",
    "        circ.save_statevector(label=f'step{istep}')\n",
    "\n",
    "        # Append the H_Z and H_X(t) simulation circuits to the main circuit\n",
    "        circ.compose(uz_spin(omega, delta_t), inplace=True)\n",
    "        circ.compose(ux_spin(amp, alpha * (sim_time / num_steps * istep), delta_t), inplace=True)\n",
    "\n",
    "    # Instruction to the simulator to save the final state\n",
    "    circ.save_statevector(label=f'step{num_steps}')\n",
    "\n",
    "    return circ"
   ]
  },
  {
   "cell_type": "markdown",
   "id": "1e3fa47a-948a-45c0-8b26-d29a3d6b7b6f",
   "metadata": {},
   "source": [
    "And a visualization function:"
   ]
  },
  {
   "cell_type": "code",
   "execution_count": null,
   "id": "695503d4-b4f5-4a44-964e-c654c8a24fd5",
   "metadata": {},
   "outputs": [],
   "source": [
    "def plot_bloch_sv(sim_time: float, sim_result: Result):\n",
    "    \"\"\"Visualization of the statevector data as time series of X, Y, Z Bloch coordinates.\"\"\"\n",
    "    num_steps = len(sim_result.data()) - 1\n",
    "    ts = np.linspace(0., sim_time, num_steps + 1)\n",
    "    xs = np.empty_like(ts)\n",
    "    ys = np.empty_like(ts)\n",
    "    zs = np.empty_like(ts)\n",
    "\n",
    "    # Pauli matrices\n",
    "    x = np.array([[0., 1.], [1., 0.]], dtype=complex)\n",
    "    y = np.array([[0., -1.j], [1.j, 0.]], dtype=complex)\n",
    "    z = np.array([[1., 0.], [0., -1.]], dtype=complex)\n",
    "\n",
    "    # Compute <X>, <Y>, and <Z> of each statevector\n",
    "    for istep in range(num_steps + 1):\n",
    "        sv = sim_result.data()[f'step{istep}'].data\n",
    "        xs[istep] = (sv.conjugate() @ x @ sv).real\n",
    "        ys[istep] = (sv.conjugate() @ y @ sv).real\n",
    "        zs[istep] = (sv.conjugate() @ z @ sv).real\n",
    "    \n",
    "    plt.plot(ts, xs, label='X')\n",
    "    plt.plot(ts, ys, label='Y')\n",
    "    plt.plot(ts, zs, label='Z')\n",
    "    plt.legend();"
   ]
  },
  {
   "cell_type": "markdown",
   "id": "1a0757a5-fae5-4c64-8611-4f224536cd3f",
   "metadata": {},
   "source": [
    "Construct the simulator and run the simulation for several values of the parameters:"
   ]
  },
  {
   "cell_type": "code",
   "execution_count": null,
   "id": "0f6083ed-1f5c-4eb2-8e0a-59afbdc5ea2a",
   "metadata": {},
   "outputs": [],
   "source": [
    "sv_simulator = AerSimulator(method='statevector')"
   ]
  },
  {
   "cell_type": "code",
   "execution_count": null,
   "id": "16839d59-0ae3-4bdf-9cd1-6024efeee299",
   "metadata": {},
   "outputs": [],
   "source": [
    "# Off-resonant driving\n",
    "omega = 2. * np.pi\n",
    "amp = 0.1\n",
    "alpha = 0.2 * np.pi\n",
    "sim_time = 10.\n",
    "num_steps = 100\n",
    "\n",
    "circuit = driven_spin_simulation_sv(omega, amp, alpha, sim_time, num_steps)\n",
    "sim_result = sv_simulator.run(circuit).result()\n",
    "plot_bloch_sv(sim_time, sim_result)"
   ]
  },
  {
   "cell_type": "code",
   "execution_count": null,
   "id": "97942ac2-aca6-403c-9a16-cd997ea18e61",
   "metadata": {},
   "outputs": [],
   "source": [
    "# On-resonant driving\n",
    "omega = 2. * np.pi\n",
    "amp = 0.5\n",
    "alpha = 2. * np.pi\n",
    "sim_time = 20.\n",
    "num_steps = 200\n",
    "\n",
    "circuit = driven_spin_simulation_sv(omega, amp, alpha, sim_time, num_steps)\n",
    "sv_result = sv_simulator.run(circuit).result()\n",
    "plot_bloch_sv(sim_time, sv_result)"
   ]
  },
  {
   "cell_type": "markdown",
   "id": "b2aa4b4e-9820-4643-b25b-1dd0f625169d",
   "metadata": {},
   "source": [
    "If we were to not cheat with the statevectors, the simulation function would instead look like this:"
   ]
  },
  {
   "cell_type": "code",
   "execution_count": null,
   "id": "7ac6804a-39ea-4dfe-b087-b8c06ec18ddd",
   "metadata": {},
   "outputs": [],
   "source": [
    "def driven_spin_simulation_expval(\n",
    "    omega: float,\n",
    "    amp: float,\n",
    "    alpha: float,\n",
    "    sim_time: float,\n",
    "    num_steps: int\n",
    ") -> tuple[list[QuantumCircuit], list[SparsePauliOp]]:\n",
    "    \"\"\"Estimator inputs for Suzuki-Trotter simulation of the evolution by H(t).\"\"\"\n",
    "    delta_t = sim_time / num_steps\n",
    "    circuits = []\n",
    "    observables = []\n",
    "    # Single qubit <=> single spin 1/2\n",
    "    circ = QuantumCircuit(1)\n",
    "    for istep in range(num_steps):\n",
    "        # Store one copy (snapshot) of circ per observable\n",
    "        for obs in ['X', 'Y', 'Z']:\n",
    "            circuits.append(circ.copy())\n",
    "            observables.append(SparsePauliOp(obs))\n",
    "            \n",
    "        # Append the H_Z and H_X(t) simulation circuits to the main circuit\n",
    "        circ.compose(uz_spin(omega, delta_t), inplace=True)\n",
    "        circ.compose(ux_spin(amp, alpha * (sim_time / num_steps * istep), delta_t), inplace=True)\n",
    "\n",
    "    # Final-state snapshots\n",
    "    for obs in ['X', 'Y', 'Z']:\n",
    "        circuits.append(circ)\n",
    "        observables.append(SparsePauliOp(obs))\n",
    "\n",
    "    return circuits, observables"
   ]
  },
  {
   "cell_type": "code",
   "execution_count": null,
   "id": "2e2d5ff7-371a-43ce-8ab0-d23cb6c94096",
   "metadata": {},
   "outputs": [],
   "source": [
    "def plot_bloch_expval(sim_time: float, expvals: np.ndarray):\n",
    "    \"\"\"Visualization of the X, Y, Z expectation values as functions of time.\"\"\"\n",
    "    num_steps = expvals.shape[0] // 3 - 1\n",
    "    ts = np.linspace(0., sim_time, num_steps + 1)\n",
    "    xs = expvals[::3]\n",
    "    ys = expvals[1::3]\n",
    "    zs = expvals[2::3]\n",
    "    \n",
    "    plt.plot(ts, xs, label='X')\n",
    "    plt.plot(ts, ys, label='Y')\n",
    "    plt.plot(ts, zs, label='Z')\n",
    "    plt.legend();"
   ]
  },
  {
   "cell_type": "code",
   "execution_count": null,
   "id": "79d26db0-eabb-427f-99ef-d10e0070ce12",
   "metadata": {},
   "outputs": [],
   "source": [
    "circuits, observables = driven_spin_simulation_expval(omega, amp, alpha, sim_time, num_steps)\n",
    "estimator = AerEstimator()\n",
    "expval_result = estimator.run(circuits, observables, shots=2000, seed=1234).result()"
   ]
  },
  {
   "cell_type": "code",
   "execution_count": null,
   "id": "452d655d-134d-4996-a45d-10355d10b8f5",
   "metadata": {},
   "outputs": [],
   "source": [
    "plot_bloch_expval(sim_time, expval_result.values)"
   ]
  },
  {
   "cell_type": "markdown",
   "id": "f503b4c5-f1f7-4644-bab0-36f6aadc5424",
   "metadata": {},
   "source": [
    "To run the same circuits on an IBM backend, we would in principle need to simply replace the AerEstimator with RuntimeEstimator set up with an appropriate backend. However, to be economical, we will try to \"parallelize\" the circuits using as many qubits as possible. Because a single circuit will be used to compute observables of multiple independent experiments, we cannot use the Estimator and will instead be using the Sampler. Change of measurement basis and expectation value extraction are performed by hand."
   ]
  },
  {
   "cell_type": "code",
   "execution_count": null,
   "id": "e3d06d8a-d572-48e3-b08c-802696ab341d",
   "metadata": {},
   "outputs": [],
   "source": [
    "def driven_spin_simulation_parallel(\n",
    "    omega: float,\n",
    "    amp: float,\n",
    "    alpha: float,\n",
    "    sim_time: float,\n",
    "    num_steps: int,\n",
    "    num_qubits: int\n",
    ") -> list[QuantumCircuit]:\n",
    "    \"\"\"Parallelized Suzuki-Trotter simulation of the evolution by H(t).\"\"\"\n",
    "    # Circuits to be run (num_qubits dense)\n",
    "    circuits = [QuantumCircuit(num_qubits)]\n",
    "    # Function to yield the next qubit index to append the simulation circuit\n",
    "    # When all qubits of the current circuit is exhausted, appends a new circuit\n",
    "    # to the list and restarts the qubit index from 0\n",
    "    def gen_qubit_idx():\n",
    "        while True:\n",
    "            for iq in range(num_qubits):\n",
    "                yield iq\n",
    "            # Exhausted all qubits; append a new one to the list\n",
    "            circuits.append(QuantumCircuit(num_qubits))\n",
    "\n",
    "    # Qubit index generator\n",
    "    qubit_idx = gen_qubit_idx()\n",
    "            \n",
    "    delta_t = sim_time / num_steps\n",
    "    # Simulation (single-qubit) circuit\n",
    "    circ = QuantumCircuit(1)\n",
    "    for istep in range(num_steps):\n",
    "        # Append the single-qubit circuit to the next qubit of the output circuit\n",
    "        for obs in ['X', 'Y', 'Z']:\n",
    "            iq = next(qubit_idx)\n",
    "            circuits[-1].compose(circ, qubits=[iq], inplace=True)\n",
    "            # Apply change of measurement basis\n",
    "            if obs == 'X':\n",
    "                circuits[-1].h(iq)\n",
    "            elif obs == 'Y':\n",
    "                circuits[-1].sdg(iq)\n",
    "                circuits[-1].h(iq)\n",
    "\n",
    "        # Append the H_Z and H_X(t) simulation circuits to the simulation circuit\n",
    "        circ.compose(uz_spin(omega, delta_t), inplace=True)\n",
    "        circ.compose(ux_spin(amp, alpha * (sim_time / num_steps * istep), delta_t), inplace=True)\n",
    "\n",
    "    # Final-state snapshots\n",
    "    for obs in ['X', 'Y', 'Z']:\n",
    "        iq = next(qubit_idx)\n",
    "        circuits[-1].compose(circ, qubits=[iq], inplace=True)\n",
    "        # Apply change of measurement basis\n",
    "        if obs == 'X':\n",
    "            circuits[-1].h(iq)\n",
    "        elif obs == 'Y':\n",
    "            circuits[-1].sdg(iq)\n",
    "            circuits[-1].h(iq)\n",
    "\n",
    "    # Using the Sampler -> need explicit measurement instructions\n",
    "    for circuit in circuits:\n",
    "        circuit.measure_all()\n",
    "\n",
    "    return circuits\n",
    "\n",
    "def extract_expvals(num_steps: int, num_qubits: int, result: SamplerResult):\n",
    "    \"\"\"Function to extract the expectation values from a Sampler result (quasi-distributions).\"\"\"\n",
    "    # Temporary array with shape [N, 2] (N: total number of simulation circuits)\n",
    "    qvals = np.zeros((3 * (num_steps + 1), 2), dtype=float)\n",
    "\n",
    "    # result.quasi_dists is a list of dict-like objects (one per executed circuit)\n",
    "    for idist, dist in enumerate(result.quasi_dists):\n",
    "        # Range of simulation circuit indices this result corresponds to\n",
    "        min_index = idist * num_qubits\n",
    "        max_index = min((idist + 1) * num_qubits, qvals.shape[0])\n",
    "        indices = np.arange(min_index, max_index)\n",
    "        # binary_probabilities = {bitstring: quasi-probability}\n",
    "        for bitstring, quasip in dist.binary_probabilities(num_qubits).items():\n",
    "            # Bits are ordered from right to left in the string\n",
    "            bits = [int(s) for s in bitstring[::-1]]\n",
    "            # Sum up the quasi-probability of observing 0 or 1 for each simulation circuit\n",
    "            qvals[indices, bits[:len(indices)]] += quasip\n",
    "\n",
    "    # Finally compute the expectation value as a difference between qvals[:, 0] and qvals[:, 1]\n",
    "    return qvals[:, 0] - qvals[:, 1]"
   ]
  },
  {
   "cell_type": "markdown",
   "id": "e7c267f1-de38-4fd1-803a-f09342301b4d",
   "metadata": {},
   "source": [
    "Trying the parallelized version on the simulator first:"
   ]
  },
  {
   "cell_type": "code",
   "execution_count": null,
   "id": "71f4068c-3350-4128-a828-b469afa8b97b",
   "metadata": {},
   "outputs": [],
   "source": [
    "num_qubits = 16\n",
    "circuits = driven_spin_simulation_parallel(omega, amp, alpha, sim_time, num_steps, num_qubits)\n",
    "sampler = AerSampler()\n",
    "par_result = sampler.run(circuits, shots=2000, seed=1234).result()\n",
    "expvals = extract_expvals(num_steps, num_qubits, par_result)"
   ]
  },
  {
   "cell_type": "code",
   "execution_count": null,
   "id": "38438997-e9d1-4692-b513-ba337daac17d",
   "metadata": {},
   "outputs": [],
   "source": [
    "plot_bloch_expval(sim_time, expvals)"
   ]
  },
  {
   "cell_type": "markdown",
   "id": "cff8296c-3339-4ee3-8ba4-dc8180379d07",
   "metadata": {},
   "source": [
    "And then finally on a backend:"
   ]
  },
  {
   "cell_type": "code",
   "execution_count": null,
   "id": "2ba3d010-5204-49f1-a88e-c9734aea464c",
   "metadata": {},
   "outputs": [],
   "source": [
    "service = QiskitRuntimeService(filename=runtime_config_path)\n",
    "backend = service.least_busy(operational=True, simulator=False)"
   ]
  },
  {
   "cell_type": "code",
   "execution_count": null,
   "id": "81cd717f-398c-44fe-b4be-3e581378888c",
   "metadata": {},
   "outputs": [],
   "source": [
    "# List of usable qubits on the backend\n",
    "qubits = [iq for iq in range(backend.num_qubits) if iq not in backend.properties().faulty_qubits()]\n",
    "num_qubits = len(qubits)\n",
    "circuits = driven_spin_simulation_parallel(omega, amp, alpha, sim_time, num_steps, num_qubits)\n",
    "\n",
    "# Submitting un-transpiled circuits will soon be forbidden, so we transpile ours locally\n",
    "#circuits_tr = transpile(circuits, backend=backend, initial_layout=qubits, optimization_level=0)\n",
    "pm = generate_preset_pass_manager(backend=backend, initial_layout=qubits, optimization_level=0)\n",
    "circuits_tr = pm.run(circuits)\n",
    "\n",
    "# For now we need to set the skip_transpilation option to signal that the circuits have been transpiled\n",
    "# Resilience level 1 => perform readout error mitigation\n",
    "#options = Options(resilience_level=1, transpilation={'skip_transpilation': True})\n",
    "with Session(backend=backend) as session:\n",
    "    sampler = RuntimeSampler(mode=session)\n",
    "    ibm_result = sampler.run(circuits_tr, shots=2000).result()"
   ]
  },
  {
   "cell_type": "code",
   "execution_count": null,
   "id": "931ab7d1-7673-4b5c-8ba8-2012e2cc6c5d",
   "metadata": {},
   "outputs": [],
   "source": [
    "ibm_expvals = extract_expvals(num_steps, num_qubits, ibm_result)\n",
    "plot_bloch_expval(sim_time, ibm_expvals)"
   ]
  },
  {
   "cell_type": "code",
   "execution_count": null,
   "id": "5777348e-4da0-4603-aadd-c191eb23dfbc",
   "metadata": {},
   "outputs": [],
   "source": []
  }
 ],
 "metadata": {
  "kernelspec": {
   "display_name": "Python 3 (ipykernel)",
   "language": "python",
   "name": "python3"
  },
  "language_info": {
   "codemirror_mode": {
    "name": "ipython",
    "version": 3
   },
   "file_extension": ".py",
   "mimetype": "text/x-python",
   "name": "python",
   "nbconvert_exporter": "python",
   "pygments_lexer": "ipython3",
   "version": "3.10.12"
  }
 },
 "nbformat": 4,
 "nbformat_minor": 5
}
